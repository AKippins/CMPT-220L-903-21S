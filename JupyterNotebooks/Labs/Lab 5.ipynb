{
 "cells": [
  {
   "cell_type": "markdown",
   "metadata": {},
   "source": [
    "# Lab Five\n",
    "---\n",
    "\n",
    "For this lab we're going to be messing around with our Linear Data Types!\n",
    "\n",
    "Our Goals are:\n",
    "- Creating an Array\n",
    "- Creating an ArrayList\n",
    "- Creating an LinkedList\n",
    "- Creating an Queue\n",
    "- Creating an Stack \n",
    "\n",
    "Please show the ability to:\n",
    "- Create these data types\n",
    "- Populate the data types\n",
    "- Print out the Linear Data Types"
   ]
  },
  {
   "cell_type": "code",
   "execution_count": null,
   "metadata": {},
   "outputs": [],
   "source": [
    "// Create an Array, Populate it, and Print it out\r\n",
    "String[]colors= {\"red\",\"orange\",\"brown\",\"purple\",\"blue\",\"gold\"}\r\n",
    "System.out.println (\"Your list of colors are\");\r\n",
    "for (String color: colors) {\r\n",
    "    System.out.println(color);\r\n",
    "}"
   ]
  },
  {
   "cell_type": "code",
   "execution_count": null,
   "metadata": {},
   "outputs": [],
   "source": [
    "// Create an ArrayList, Populate it, and Print it out\r\n",
    "import java.util.ArrayList;\r\n",
    "ArrayList<Integer> listExample1 = new ArrayList<Integer>(Arrays.asList (4,5,3,1,9,6,4,3,0));\r\n",
    "System.out.println(\"my list is:\" +listExample1);"
   ]
  },
  {
   "cell_type": "code",
   "execution_count": null,
   "metadata": {},
   "outputs": [],
   "source": [
    "// Create an LinkedList, Populate it, and Print it out\r\n",
    "import java.util.LinkedList;\r\n",
    "LinkedList<String> weathers = new LinkedList<String>();\r\n",
    "\r\n",
    "weathers.add(\"stormy\");\r\n",
    "weathers.add(\"sunny\");\r\n",
    "weathers.add(\"cold\");\r\n",
    "weathers.add(\"hot\");\r\n",
    "\r\n",
    "System.out.println(weathers);"
   ]
  },
  {
   "cell_type": "code",
   "execution_count": null,
   "metadata": {},
   "outputs": [],
   "source": [
    "// Create an Queue, Populate it, and Print it out\r\n",
    "import java.util.Queue;\r\n",
    "\r\n",
    "Queue<String> friends = new LinkedList<String>();\r\n",
    "friends.add(\"henry\");\r\n",
    "friends.add(\"charotte\");\r\n",
    "friends.add(\"luke\");\r\n",
    "friends.add(\"zach\");\r\n",
    "\r\n",
    "System.out.println(friends);"
   ]
  },
  {
   "cell_type": "code",
   "execution_count": null,
   "metadata": {},
   "outputs": [],
   "source": [
    "// Create an Stack, Populate it, and Print it out\r\n",
    "import java.util.Stack;\r\n",
    "\r\n",
    "Stack<String> stack = new Stack<String>();\r\n",
    "\r\n",
    "stack.push(\"Five\");\r\n",
    "stack.push(\"Bluberrys\");\r\n",
    "stack.push(\"excaleber\");\r\n",
    "stack.push(\"owlcity\");\r\n",
    "stack.push(\"bed bugs\");\r\n",
    "\r\n",
    "System.out.println(stack);"
   ]
  }
 ],
 "metadata": {
  "kernelspec": {
   "display_name": "Java",
   "language": "java",
   "name": "java"
  },
  "language_info": {
   "name": "java",
   "version": ""
  },
  "orig_nbformat": 2
 },
 "nbformat": 4,
 "nbformat_minor": 2
}