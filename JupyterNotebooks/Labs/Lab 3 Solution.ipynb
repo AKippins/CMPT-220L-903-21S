{
 "cells": [
  {
   "cell_type": "markdown",
   "metadata": {},
   "source": [
    "# Lab Three\n",
    "---\n",
    "\n",
    "For this lab we're going to be making and using a bunch of functions. \n",
    "\n",
    "Our Goals are:\n",
    "- Switch Case\n",
    "- Looping\n",
    "- Making our own functions\n",
    "- Combining functions\n",
    "- Structuring solutions"
   ]
  },
  {
   "cell_type": "code",
   "execution_count": null,
   "metadata": {},
   "outputs": [],
   "source": [
    "// Give me an example of you using switch case.\n",
    "String choice = \"Rock\"\n",
    "switch(choice){\n",
    "    case \"Rock\":\n",
    "        System.out.println(\"The Computer chose Paper. You lose\");\n",
    "    case \"Paper\":\n",
    "        System.out.println(\"The Computer chose Scissors. You lose\");\n",
    "    case \"Scissors\":\n",
    "        System.out.println(\"The Computer chose Rock. You lose\");\n",
    "}"
   ]
  },
  {
   "cell_type": "code",
   "execution_count": 1,
   "metadata": {},
   "outputs": [
    {
     "name": "stdout",
     "output_type": "stream",
     "text": [
      "I'll understand with more practice\n",
      "I'll understand with more practice\n",
      "I'll understand with more practice\n",
      "I'll understand with more practice\n",
      "I'll understand with more practice\n",
      "I'll understand with more practice\n",
      "I'll understand with more practice\n",
      "I'll understand with more practice\n",
      "I'll understand with more practice\n",
      "I'll understand with more practice\n"
     ]
    }
   ],
   "source": [
    "// Give me an example of you using a for loop\n",
    "for (int x = 0; x < 10; x++) {\n",
    "    System.out.println(\"I'll understand with more practice\");\n",
    "}"
   ]
  },
  {
   "cell_type": "code",
   "execution_count": 2,
   "metadata": {},
   "outputs": [
    {
     "name": "stdout",
     "output_type": "stream",
     "text": [
      "Your list of todos are:\n",
      "Laundry\n",
      "Wash the Car\n",
      "Cook Dinner for the Week\n"
     ]
    }
   ],
   "source": [
    "// Give me an example of you using a for each loop\n",
    "String[] todos = {\"Laundry\", \"Wash the Car\", \"Cook Dinner for the Week\"};\n",
    "\n",
    "System.out.println(\"Your list of todos are:\");\n",
    "for (String todo: todos) {\n",
    "    System.out.println(todo);\n",
    "}"
   ]
  },
  {
   "cell_type": "code",
   "execution_count": 3,
   "metadata": {},
   "outputs": [
    {
     "name": "stdout",
     "output_type": "stream",
     "text": [
      "Flipping is looping\n"
     ]
    }
   ],
   "source": [
    "// Give me an example of you using a while loop\n",
    "boolean is_looping = true;\n",
    "\n",
    "while (is_looping) {\n",
    "    System.out.println(\"Flipping is looping\");\n",
    "    is_looping = !is_looping;\n",
    "}"
   ]
  },
  {
   "cell_type": "code",
   "execution_count": 15,
   "metadata": {},
   "outputs": [
    {
     "name": "stdout",
     "output_type": "stream",
     "text": [
      "8.0\n"
     ]
    }
   ],
   "source": [
    "// I want you to write a function that will take in a number and raise it to the power given. \n",
    "\n",
    "// For example if given the numbers 2 and 3. The math that the function should do is 2^3 and should print out or return 8. Print the output.\n",
    "\n",
    "double power (int base, int exponent) {\n",
    "     return Math.pow(base,exponent);\n",
    "}\n",
    "\n",
    "System.out.println(power(2,3));"
   ]
  },
  {
   "cell_type": "code",
   "execution_count": 12,
   "metadata": {},
   "outputs": [
    {
     "name": "stdout",
     "output_type": "stream",
     "text": [
      "The array provided was empty. Please provide a valid array.\n"
     ]
    }
   ],
   "source": [
    "// I want you to write a function that will take in a list and see how many times a given number is in the list. \n",
    "\n",
    "// For example if the array given is [2,3,5,2,3,6,7,8,2] and the number given is 2 the function should print out or return 3. Print the output.\n",
    "\n",
    "void number_counter(int[] array, int target){\n",
    "    if (array.length == 0) {\n",
    "        System.out.println(\"The array provided was empty. Please provide a valid array.\");\n",
    "        return;\n",
    "    }\n",
    "    \n",
    "    int counter = 0;\n",
    "    for (int number: array) {\n",
    "        if (target == number) {\n",
    "            counter++;\n",
    "        }\n",
    "    }\n",
    "    System.out.println(\"There are \" + counter + \" \" + target + \"'s in the given array\");\n",
    "}\n",
    "\n",
    "// int[] array = {1,2,3,4,1,2,3,4,1,1,1,2,3,4,4,4,4};\n",
    "int[] array = {};\n",
    "number_counter(array, 0);"
   ]
  },
  {
   "cell_type": "code",
   "execution_count": 20,
   "metadata": {},
   "outputs": [
    {
     "name": "stdout",
     "output_type": "stream",
     "text": [
      "c comes out to be 5.0 and c squared was 25.0.\n"
     ]
    }
   ],
   "source": [
    "// Give me a function that gives the answer to the pythagorean theorem. \n",
    "// I'd like you to reuse the exponent function from above as well as the functions below to make your function.\n",
    "\n",
    "// If you don't remember the pythagorean theorem the formula is (a^2 + b^2 = c^2). Given a and b as parameters i'd like you to return c. \n",
    "// If this doesn't make sense look up `Pythagorean Theorem Formula` on google.\n",
    "\n",
    "double addition(double a, double b) {\n",
    "    double answer = a + b;\n",
    "    return answer;\n",
    "}\n",
    "\n",
    "double division(int a, int b) {\n",
    "    int answer = a / b;\n",
    "    return answer;\n",
    "}\n",
    "\n",
    "void pythagorean_theorem(int a, int b) {\n",
    "    double a_squared = power(a, 2);\n",
    "    double b_squared = power(b, 2);\n",
    "    double c_squared = addition(a_squared, b_squared);\n",
    "    double c = Math.sqrt(c_squared);\n",
    "    \n",
    "    System.out.println(\"c comes out to be \" + c + \" and c squared was \" + c_squared + \".\");\n",
    "}\n",
    "\n",
    "pythagorean_theorem(3,4);\n"
   ]
  },
  {
   "cell_type": "code",
   "execution_count": null,
   "metadata": {},
   "outputs": [],
   "source": []
  }
 ],
 "metadata": {
  "kernelspec": {
   "display_name": "Java",
   "language": "java",
   "name": "java"
  },
  "language_info": {
   "codemirror_mode": {
    "name": "ipython",
    "version": 3
   },
   "file_extension": ".py",
   "mimetype": "text/x-python",
   "name": "python",
   "nbconvert_exporter": "python",
   "pygments_lexer": "ipython3",
   "version": "3.8.5-final"
  },
  "orig_nbformat": 2
 },
 "nbformat": 4,
 "nbformat_minor": 2
}