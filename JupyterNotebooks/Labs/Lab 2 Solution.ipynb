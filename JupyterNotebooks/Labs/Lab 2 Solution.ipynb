{
 "cells": [
  {
   "cell_type": "markdown",
   "metadata": {},
   "source": [
    "# Lab Two\n",
    "---\n",
    "\n",
    "Ok for this lab we're going to reiterate a lot of the things that we went over in class.\n",
    "\n",
    "Our Goals are:\n",
    "- Conditionals\n",
    "    - If\n",
    "    - Else\n",
    "    - Else If"
   ]
  },
  {
   "cell_type": "code",
   "execution_count": 1,
   "metadata": {},
   "outputs": [
    {
     "name": "stdout",
     "output_type": "stream",
     "text": [
      "If: This is an if statement\n"
     ]
    }
   ],
   "source": [
    "// Make an if statement\n",
    "if (true) {\n",
    "    System.out.println(\"If: This is an if statement\");\n",
    "}"
   ]
  },
  {
   "cell_type": "code",
   "execution_count": 2,
   "metadata": {},
   "outputs": [
    {
     "name": "stdout",
     "output_type": "stream",
     "text": [
      "Else: This is an else statement\n"
     ]
    }
   ],
   "source": [
    "// Make an if, else statement where the else statement triggers\n",
    "if (false) {\n",
    "    System.out.println(\"If: This is an if statement\");\n",
    "} else {\n",
    "    System.out.println(\"Else: This is an else statement\");\n",
    "}"
   ]
  },
  {
   "cell_type": "code",
   "execution_count": 3,
   "metadata": {},
   "outputs": [
    {
     "name": "stdout",
     "output_type": "stream",
     "text": [
      "Else If: This is an else if statement\n"
     ]
    }
   ],
   "source": [
    "// Make an if, else if, else statement where the else if statement triggers\n",
    "if (false) {\n",
    "    System.out.println(\"If: This is an if statement\");\n",
    "} else if (true) {\n",
    "    System.out.println(\"Else If: This is an else if statement\");\n",
    "} else {\n",
    "    System.out.println(\"Else: This is an else statement\");\n",
    "}"
   ]
  },
  {
   "cell_type": "code",
   "execution_count": 4,
   "metadata": {},
   "outputs": [
    {
     "name": "stdout",
     "output_type": "stream",
     "text": [
      "If: This is an if statement\n"
     ]
    }
   ],
   "source": [
    "// Make 2 variables and use them in an if else conditional\n",
    "int a = 2;\n",
    "int b = 2;\n",
    "\n",
    "if (a == b) {\n",
    "    System.out.println(\"If: This is an if statement\");\n",
    "} else {\n",
    "    System.out.println(\"Else: This is an else statement\");\n",
    "}"
   ]
  },
  {
   "cell_type": "code",
   "execution_count": 7,
   "metadata": {},
   "outputs": [
    {
     "name": "stdout",
     "output_type": "stream",
     "text": [
      "If: This is an if with an and operator statement\n"
     ]
    }
   ],
   "source": [
    "// Make an if statement using 2 variables and an AND(&&) statement\n",
    "int c = 10;\n",
    "int d = 94;\n",
    "\n",
    "if (c < d && c == 10) {\n",
    "    System.out.println(\"If: This is an if with an and operator statement\");\n",
    "} else {\n",
    "    System.out.println(\"Else: This is an else statement\");\n",
    "}"
   ]
  },
  {
   "cell_type": "code",
   "execution_count": 6,
   "metadata": {},
   "outputs": [
    {
     "name": "stdout",
     "output_type": "stream",
     "text": [
      "If: This is an if with an or operator statement\n"
     ]
    }
   ],
   "source": [
    "// Make an if statement using 2 variables and an OR(||) statement\n",
    "int c = 10;\n",
    "int d = 94;\n",
    "\n",
    "if (c > d || d == 94) {\n",
    "    System.out.println(\"If: This is an if with an or operator statement\");\n",
    "} else {\n",
    "    System.out.println(\"Else: This is an else statement\");\n",
    "}"
   ]
  }
 ],
 "metadata": {
  "kernelspec": {
   "display_name": "Java",
   "language": "java",
   "name": "java"
  },
  "language_info": {
   "codemirror_mode": "java",
   "file_extension": ".jshell",
   "mimetype": "text/x-java-source",
   "name": "Java",
   "pygments_lexer": "java",
   "version": "15+36"
  },
  "orig_nbformat": 2
 },
 "nbformat": 4,
 "nbformat_minor": 2
}