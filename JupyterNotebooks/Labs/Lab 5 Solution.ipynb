{
 "cells": [
  {
   "cell_type": "markdown",
   "metadata": {},
   "source": [
    "# Lab Five\n",
    "---\n",
    "\n",
    "For this lab we're going to be messing around with our Linear Data Types!\n",
    "\n",
    "Our Goals are:\n",
    "- Creating an Array\n",
    "- Creating an ArrayList\n",
    "- Creating an LinkedList\n",
    "- Creating an Queue\n",
    "- Creating an Stack \n",
    "\n",
    "Please show the ability to:\n",
    "- Create these data types\n",
    "- Populate the data types\n",
    "- Print out the Linear Data Types"
   ]
  },
  {
   "cell_type": "code",
   "execution_count": 11,
   "metadata": {},
   "outputs": [],
   "source": [
    "// Importing all of my objects\n",
    "import java.util.Arrays;\n",
    "import java.util.ArrayList;\n",
    "import java.util.LinkedList;\n",
    "import java.util.Queue;\n",
    "import java.util.PriorityQueue;\n",
    "import java.util.Stack;"
   ]
  },
  {
   "cell_type": "code",
   "execution_count": 2,
   "metadata": {},
   "outputs": [
    {
     "name": "stdout",
     "output_type": "stream",
     "text": [
      "[Happy, Sleepy, Sneezy, Grumpy, Bashful, Dopey, Doc]\n"
     ]
    }
   ],
   "source": [
    "// Create an Array, Populate it, and Print it out\n",
    "String[] dwarves = {\"Happy\", \"Sleepy\", \"Sneezy\", \"Grumpy\", \"Bashful\", \"Dopey\", \"Doc\"};\n",
    "System.out.println(Arrays.toString(dwarves));"
   ]
  },
  {
   "cell_type": "code",
   "execution_count": 4,
   "metadata": {},
   "outputs": [
    {
     "name": "stdout",
     "output_type": "stream",
     "text": [
      "[Happy, Sleepy, Sneezy, Grumpy, Bashful, Dopey, Doc]\n"
     ]
    }
   ],
   "source": [
    "// Create an ArrayList, Populate it, and Print it out\n",
    "ArrayList<String> dwarves = new ArrayList<String>();\n",
    "dwarves.add(\"Happy\");\n",
    "dwarves.add(\"Sleepy\");\n",
    "dwarves.add(\"Sneezy\");\n",
    "dwarves.add(\"Grumpy\");\n",
    "dwarves.add(\"Bashful\");\n",
    "dwarves.add(\"Dopey\");\n",
    "dwarves.add(\"Doc\");\n",
    "\n",
    "System.out.println(dwarves);"
   ]
  },
  {
   "cell_type": "code",
   "execution_count": 8,
   "metadata": {},
   "outputs": [
    {
     "name": "stdout",
     "output_type": "stream",
     "text": [
      "[Happy, Sleepy, Sneezy, Grumpy, Bashful, Dopey, Doc]\n"
     ]
    }
   ],
   "source": [
    "// Create an LinkedList, Populate it, and Print it out\n",
    "LinkedList<String> dwarves = new LinkedList<String>();\n",
    "dwarves.add(\"Happy\");\n",
    "dwarves.add(\"Sleepy\");\n",
    "dwarves.add(\"Sneezy\");\n",
    "dwarves.add(\"Grumpy\");\n",
    "dwarves.add(\"Bashful\");\n",
    "dwarves.add(\"Dopey\");\n",
    "dwarves.add(\"Doc\");\n",
    "\n",
    "System.out.println(dwarves);"
   ]
  },
  {
   "cell_type": "code",
   "execution_count": 15,
   "metadata": {},
   "outputs": [
    {
     "name": "stdout",
     "output_type": "stream",
     "text": [
      "[Happy, Sleepy, Sneezy, Grumpy, Bashful, Dopey, Doc]\n",
      "[Bashful, Grumpy, Doc, Sleepy, Happy, Sneezy, Dopey]\n"
     ]
    }
   ],
   "source": [
    "// Create an Queue, Populate it, and Print it out\n",
    "Queue<String> dwarves = new LinkedList<String>();\n",
    "dwarves.add(\"Happy\");\n",
    "dwarves.add(\"Sleepy\");\n",
    "dwarves.add(\"Sneezy\");\n",
    "dwarves.add(\"Grumpy\");\n",
    "dwarves.add(\"Bashful\");\n",
    "dwarves.add(\"Dopey\");\n",
    "dwarves.add(\"Doc\");\n",
    "\n",
    "System.out.println(dwarves);\n",
    "\n",
    "Queue<String> dwarves = new PriorityQueue<String>();\n",
    "dwarves.add(\"Happy\");\n",
    "dwarves.add(\"Sleepy\");\n",
    "dwarves.add(\"Sneezy\");\n",
    "dwarves.add(\"Grumpy\");\n",
    "dwarves.add(\"Bashful\");\n",
    "dwarves.add(\"Dopey\");\n",
    "dwarves.add(\"Doc\");\n",
    "\n",
    "System.out.println(dwarves);"
   ]
  },
  {
   "cell_type": "code",
   "execution_count": 17,
   "metadata": {},
   "outputs": [
    {
     "name": "stdout",
     "output_type": "stream",
     "text": [
      "[Happy, Sleepy, Sneezy, Grumpy, Bashful, Dopey, Doc]\n"
     ]
    }
   ],
   "source": [
    "// Create an Stack, Populate it, and Print it out\n",
    "Stack<String> dwarves = new Stack<String>();\n",
    "dwarves.push(\"Happy\");\n",
    "dwarves.push(\"Sleepy\");\n",
    "dwarves.push(\"Sneezy\");\n",
    "dwarves.push(\"Grumpy\");\n",
    "dwarves.push(\"Bashful\");\n",
    "dwarves.push(\"Dopey\");\n",
    "dwarves.push(\"Doc\");\n",
    "\n",
    "System.out.println(dwarves);"
   ]
  }
 ],
 "metadata": {
  "kernelspec": {
   "display_name": "Java",
   "language": "java",
   "name": "python3610jvsc74a57bd080a400c01c78118b2ce1d50fe9f9ac89d81e3c1779f27e63b011330df7cd96a3"
  },
  "language_info": {
   "codemirror_mode": "java",
   "file_extension": ".jshell",
   "mimetype": "text/x-java-source",
   "name": "Java",
   "pygments_lexer": "java",
   "version": "15+36"
  },
  "orig_nbformat": 2
 },
 "nbformat": 4,
 "nbformat_minor": 2
}