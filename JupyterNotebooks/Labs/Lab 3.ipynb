{
 "cells": [
  {
   "cell_type": "markdown",
   "metadata": {},
   "source": [
    "# Lab Three\n",
    "---\n",
    "\n",
    "For this lab we're going to be making and using a bunch of functions. \n",
    "\n",
    "Our Goals are:\n",
    "- Switch Case\n",
    "- Looping\n",
    "- Making our own functions\n",
    "- Combining functions\n",
    "- Structuring solutions"
   ]
  },
  {
   "cell_type": "code",
   "execution_count": null,
   "metadata": {},
   "outputs": [],
   "source": [
    "// Give me an example of you using switch case.\n",
    "switch(day){\n",
    "    case 0:\n",
    "        day = sunday;\n",
    "        break; \n",
    "    case 1:\n",
    "        day = monday;\n",
    "        break;\n",
    "    case 2:\n",
    "        day = tuesday;\n",
    "        break;\n",
    "    case 3:\n",
    "        day = wednesday;\n",
    "        break;\n",
    "    case 4:\n",
    "        day = thursday;\n",
    "        break; \n",
    "    case 5:\n",
    "        day = friday;\n",
    "        break;\n",
    "    case 6:\n",
    "        day = saturday;\n",
    "    }"
   ]
  },
  {
   "cell_type": "code",
   "execution_count": 1,
   "metadata": {},
   "outputs": [
    {
     "name": "stdout",
     "output_type": "stream",
     "text": [
      " this is spam \n",
      " this is spam \n",
      " this is spam \n"
     ]
    }
   ],
   "source": [
    "// Give me an example of you using a for loop\n",
    "for(int i=0; i<3; i++){\n",
    "    System.out.println(\" this is spam \");\n",
    "}"
   ]
  },
  {
   "cell_type": "code",
   "execution_count": 11,
   "metadata": {},
   "outputs": [
    {
     "ename": "CompilationException",
     "evalue": "",
     "output_type": "error",
     "traceback": [
      "\u001b[1m\u001b[30m|   \u001b[1m\u001b[30mfor (String fingers: \u001b[0m\u001b[1m\u001b[30m\u001b[41mhand\u001b[0m\u001b[1m\u001b[30m) {\u001b[0m",
      "\u001b[1m\u001b[31mcannot find symbol\u001b[0m",
      "\u001b[1m\u001b[31m  symbol:   variable hand\u001b[0m",
      "",
      "\u001b[1m\u001b[30m|   \u001b[1m\u001b[30m    System.out.println(\u001b[0m\u001b[1m\u001b[30m\u001b[41mfinger\u001b[0m\u001b[1m\u001b[30m);\u001b[0m",
      "\u001b[1m\u001b[31mcannot find symbol\u001b[0m",
      "\u001b[1m\u001b[31m  symbol:   variable finger\u001b[0m",
      ""
     ]
    }
   ],
   "source": [
    "// Give me an example of you using a for each loop\n",
    "String[] fingers = {\"Middle\", \"Index\", \"\", \"Pinkie\", \"Pointer\", \"Thumb\"};\n",
    "\n",
    "for (String fingers: hand) {\n",
    "    System.out.println(finger);\n",
    "}\n",
    "\n"
   ]
  },
  {
   "cell_type": "code",
   "execution_count": 5,
   "metadata": {},
   "outputs": [
    {
     "name": "stdout",
     "output_type": "stream",
     "text": [
      "my name is henry\n",
      "my name is henry\n",
      "my name is henry\n",
      "my name is henry\n"
     ]
    }
   ],
   "source": [
    "// Give me an example of you using a while loop\n",
    "int x= 0;\n",
    "while(x<4){\n",
    "    System.out.println(\"my name is henry\");\n",
    "\n",
    "    x++;\n",
    "}"
   ]
  },
  {
   "cell_type": "code",
   "execution_count": 14,
   "metadata": {},
   "outputs": [
    {
     "name": "stdout",
     "output_type": "stream",
     "text": [
      "15625.0\n"
     ]
    }
   ],
   "source": [
    "// I want you to write a function that will take in a number and raise it to the power given. \n",
    "// For example if given the numbers 2 and 3. The math that the function should do is 2^3 and should print out or return 8. Print the output.\n",
    "import java.lang.Math;\n",
    "\n",
    "int x=5;\n",
    "int y=6;\n",
    "\n",
    "\n",
    "System.out.println(Math.pow(x,y));\n"
   ]
  },
  {
   "cell_type": "code",
   "execution_count": 13,
   "metadata": {},
   "outputs": [
    {
     "name": "stdout",
     "output_type": "stream",
     "text": [
      "3\n"
     ]
    }
   ],
   "source": [
    "// I want you to write a function that will take in a list and see how many times a given number is in the list. \n",
    "// For example if the array given is [2,3,5,2,3,6,7,8,2] and the number given is 2 the function should print out or return 3. Print the output.\n",
    "\n",
    "int numberFinder(char targetNumber, String string) {\n",
    "    int total = 0;\n",
    "    for (char number: string.toCharArray()){\n",
    "        if (number == targetNumber) {\n",
    "            total++;\n",
    "        }\n",
    "    }\n",
    "    return total;\n",
    "}\n",
    "\n",
    "int output = numberFinder('2', \"2,3,2,4,6,4,8,7,5,9,2,1,4,5\");\n",
    "System.out.println(output);\n",
    "\n"
   ]
  },
  {
   "cell_type": "code",
   "execution_count": 28,
   "metadata": {},
   "outputs": [
    {
     "name": "stdout",
     "output_type": "stream",
     "text": [
      "7.810249675906654\n"
     ]
    }
   ],
   "source": [
    "// Give me a function that gives the answer to the pythagorean theorem. \n",
    "// I'd like you to reuse the exponent function from above as well as the functions below to make your function.\n",
    "// If you don't remember the pythagorean theorem the formula is (a^2 + b^2 = c^2). Given a and b as parameters i'd like you to return c. \n",
    "// If this doesn't make sense look up `Pythagorean Theorem Formula` on google.\n",
    "\n",
    "int addition(int a, int b) {\n",
    "    int answer = a + b;\n",
    "    return answer;\n",
    "}\n",
    "\n",
    "int division(int a, int b) {\n",
    "    int answer = a / b;\n",
    "    return answer;\n",
    "}\n",
    "\n",
    "\n",
    "\n",
    "import java.lang.Math;\n",
    "\n",
    "int a = 5;\n",
    "int y = 2;\n",
    "int b = 6;\n",
    "\n",
    "double merri = Math.ssqrt(Math.pow(a,y) + Math.pow(b,y));\n",
    "\n",
    "\n",
    "System.out.println(merri);\n",
    "\n",
    "\n",
    "\n"
   ]
  },
  {
   "cell_type": "code",
   "execution_count": null,
   "metadata": {},
   "outputs": [],
   "source": []
  }
 ],
 "metadata": {
  "kernelspec": {
   "display_name": "Java",
   "language": "java",
   "name": "java"
  },
  "language_info": {
   "codemirror_mode": "java",
   "file_extension": ".jshell",
   "mimetype": "text/x-java-source",
   "name": "Java",
   "pygments_lexer": "java",
   "version": "15.0.2+7-27"
  },
  "orig_nbformat": 2
 },
 "nbformat": 4,
 "nbformat_minor": 2
}