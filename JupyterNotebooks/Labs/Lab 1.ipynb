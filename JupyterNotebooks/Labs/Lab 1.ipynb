{
 "cells": [
  {
   "cell_type": "markdown",
   "metadata": {},
   "source": [
    "# Lab One\n",
    "---\n",
    "\n",
    "Ok for this lab we're going to reiterate a lot of the things that we went over in class.\n",
    "\n",
    "Our Goals are:\n",
    "- Binary Math\n",
    "- Defining Variables\n",
    "    - Primitive Types\n",
    "    - Reference Types\n",
    "- Using Math\n",
    "- Manipulating Variables"
   ]
  },
  {
   "cell_type": "markdown",
   "metadata": {},
   "source": [
    "For this section I just want you to type the answer. I know that you can just look this up but try and do the math. \n",
    "### What is 1000 in Decimal\n",
    "8\n",
    "### What is 1000 1001 in Decimal (This is a byte. It's just split for readability)\n",
    "137\n",
    "### What is 1010 1111 in Decimal (This is a byte. It's just split for readability)\n",
    "180\n",
    "### What is 0101 1010 in Decimal (This is a byte. It's just split for readability)\n",
    "60"
   ]
  },
  {
   "cell_type": "code",
   "execution_count": 4,
   "metadata": {},
   "outputs": [],
   "source": [
    "// Define 8 variables, one of each type listed: [boolean, byte, short, int, long, float, double, char]. Print all 8 of them.\n",
    "\n",
    "int henry = 5;\n",
    "boolean test = true;\n",
    "byte number = 100;\n",
    "short morse= 32643;\n",
    "long age = 22;\n",
    "float world = 3;\n",
    "double douch = 3.6;\n",
    "char inital = 'h'\n",
    "\n",
    "\n",
    "System.out.println(henry);\n",
    "System.out.println(test);\n",
    "System.out.println(number);\n",
    "System.out.println(morse);\n",
    "System.out.println(age);\n",
    "System.out.println(world);\n",
    "System.out.println(douch);\n",
    "System.out.println(inital);"
   ]
  },
  {
   "cell_type": "code",
   "execution_count": null,
   "metadata": {},
   "outputs": [],
   "source": [
    "// Make me a list of any type\n",
    "Integer[] list = {5,6,7,3,2,4,1,0,9}\n"
   ]
  },
  {
   "cell_type": "code",
   "execution_count": 7,
   "metadata": {},
   "outputs": [
    {
     "name": "stdout",
     "output_type": "stream",
     "text": [
      "10\n",
      "0\n",
      "1\n",
      "25\n",
      "0\n"
     ]
    }
   ],
   "source": [
    "// With whatever variables you'd like demonstrate the following: [Addition, Subtraction, Division, Multiplication, Modulo]. Print all 5.\n",
    "int x = 5;\n",
    "\n",
    "System.out.println(x+x);\n",
    "System.out.println(x-x);\n",
    "System.out.println(x/x);\n",
    "System.out.println(x*x);\n",
    "System.out.println(x%x);\n"
   ]
  },
  {
   "cell_type": "code",
   "execution_count": 9,
   "metadata": {},
   "outputs": [
    {
     "name": "stdout",
     "output_type": "stream",
     "text": [
      "57"
     ]
    }
   ],
   "source": [
    "// Using 2 variables and addition print the number 57\n",
    "int x= 5;\n",
    "int y= 52;\n",
    "\n",
    "System.out.print(x+y);"
   ]
  },
  {
   "cell_type": "code",
   "execution_count": 13,
   "metadata": {},
   "outputs": [
    {
     "name": "stdout",
     "output_type": "stream",
     "text": [
      "10\n",
      "13\n"
     ]
    }
   ],
   "source": [
    "// Define a variable and print it out. Then alter the same variable and print it out. This can be through string concatenation or addition, etc.\n",
    "int t=10;\n",
    "\n",
    "System.out.println(t);\n",
    "\n",
    "System.out.println(t+3);\n"
   ]
  }
 ],
 "metadata": {
  "kernelspec": {
   "display_name": "Java",
   "language": "java",
   "name": "java"
  },
  "language_info": {
   "codemirror_mode": {
    "name": "ipython",
    "version": 3
   },
   "file_extension": ".py",
   "mimetype": "text/x-python",
   "name": "python",
   "nbconvert_exporter": "python",
   "pygments_lexer": "ipython3",
   "version": "3.8.5-final"
  },
  "orig_nbformat": 2
 },
 "nbformat": 4,
 "nbformat_minor": 2
}