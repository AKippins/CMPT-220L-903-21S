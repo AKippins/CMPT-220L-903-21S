{
 "cells": [
  {
   "cell_type": "markdown",
   "metadata": {},
   "source": []
  },
  {
   "cell_type": "markdown",
   "metadata": {},
   "source": [
    "# Lab Four\n",
    "---\n",
    "\n",
    "For this lab we're going to be messing around with Markdown!\n",
    "\n",
    "Our Goals are:\n",
    "- Using Markdown!\n",
    "\n",
    "I want you to describe to me your process of converting the assignment and making it DRY. \n",
    "\n",
    "Please show the ability to:\n",
    "- Make a header\n",
    "- Make a list (ordered or unordered)\n",
    "- Link the Markdown Guide from the lesson. \n",
    "- Artuculate your thought process."
   ]
  },
  {
   "cell_type": "code",
   "execution_count": null,
   "metadata": {},
   "outputs": [],
   "source": [
    "<h2>How I went about DRYing your code</h2>\n",
    "\n",
    "<ol>\n",
    "<li>I looked through the code and saw what options I had</li>\n",
    "<li>Decided the best way to dry it was make a loop</li>\n",
    "<li>Made scanner class for input for looping</li>\n",
    "<li>Made for infinite customers, or until the ___ available classes run out</li>\n",
    "</ol>\n",
    "\n",
    "<p>\n",
    "Thought process: When considering that the definition of DRYing code is also simplifying it, I looked at the complicated long code and thought about how to best shorten it. I thought the best way was to ask the questions in a loop, looping through each individual customer and asking the same questions that way. I used the scanner class so the customers could input what they wanted/needed\n",
    "</p.\n"
   ]
  },
  {
   "cell_type": "markdown",
   "metadata": {},
   "source": [
    "## How I went about DRYing your code \n",
    "\n",
    "1. I looked through the code and saw what options I had\n",
    "2. Decided the best way to dry it was make a loop\n",
    "3. Made scanner class for input for looping\n",
    "4. Made for infinite customers, or until the ___ available classes run out\n",
    "\n",
    "\n",
    "Thought process: When considering that the definition of DRYing code is also simplifying it, I looked at the complicated long code and thought about how to best shorten it. I thought the best way was to ask the questions in a loop, looping through each individual customer and asking the same questions that way. I used the scanner class so the customers could input what they wanted/needed\n",
    "\n",
    "\n",
    "\n",
    "\n",
    "\n"
   ]
  }
 ],
 "metadata": {
  "language_info": {
   "codemirror_mode": {
    "name": "ipython",
    "version": 3
   },
   "file_extension": ".py",
   "mimetype": "text/x-python",
   "name": "python",
   "nbconvert_exporter": "python",
   "pygments_lexer": "ipython3",
   "version": 3
  },
  "orig_nbformat": 2
 },
 "nbformat": 4,
 "nbformat_minor": 2
}