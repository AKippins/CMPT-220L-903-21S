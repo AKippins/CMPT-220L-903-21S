{
 "cells": [
  {
   "cell_type": "markdown",
   "metadata": {},
   "source": [
    "# Software Development 1\n",
    "\n",
    "Topics for today will include:\n",
    "- Generics\n",
    "- Abstract Classes Revisited\n",
    "- Interfaces Revisited\n",
    "- Project Discussion Post Break\n",
    "    "
   ]
  },
  {
   "cell_type": "markdown",
   "metadata": {},
   "source": [
    "## Generics\n",
    "The topic of Generics is something that you may have already encountered... though not in Java. In python where we don't have to say what type our variables are, when we do things with those variables the interpreter figures it out."
   ]
  },
  {
   "cell_type": "code",
   "execution_count": 4,
   "metadata": {},
   "outputs": [
    {
     "data": {
      "text/plain": "10"
     },
     "execution_count": 4,
     "metadata": {},
     "output_type": "execute_result"
    }
   ],
   "source": [
    "def add(x, y):\n",
    "    return x + y\n",
    "\n",
    "    \n",
    "add(4, 6)"
   ]
  },
  {
   "cell_type": "code",
   "execution_count": null,
   "metadata": {},
   "outputs": [],
   "source": [
    "// How do we do the same thing in Java?\n",
    "public ? add(){\n",
    "\n",
    "}"
   ]
  },
  {
   "cell_type": "markdown",
   "metadata": {},
   "source": [
    "Now in some instances this can be very confusing. Although in a language like Java where we're typically more strictly restricting things this can be very useful. \n",
    "\n",
    "Generic Methods and classes can allow us to avoid the duplication of code for like methods or classes. All while using just one class or method depending on what we're doing. Being that we're in Java this is still a little safer that what we'd be doing because our errors would be caught at compile time. That being said dealing with Generics can be very confusing and we typically need to be very specific when dealing with them. Our methods and classes will typically have to jump through a lot more hoops to make it useable by multiple other types.\n",
    "\n",
    "Although this means we have the ability to write one generic function that will service many of our needs. Let's look at a potential example below. \n",
    "\n",
    "Usually all that we have to do is tell it in our keywords before the function that we're going to be doing something interesting using a variable that's not defined and that's denoted by this `<>`. This should seem familiar because it's what we use to denote types for things like LinkedLists, ArrayLists, Stacks, and so on. \n",
    "\n",
    "We're gonna choose `<N>` for now.\n",
    "\n",
    "Do we think that this will be able to run? "
   ]
  },
  {
   "cell_type": "code",
   "execution_count": null,
   "metadata": {},
   "outputs": [],
   "source": [
    "public <N> void add(N x, N y) {\n",
    "    N ans = x + y;\n",
    "    System.out.println(ans);\n",
    "}\n",
    "\n",
    "add(2,3);\n",
    "// add(2.0,3.0);\n",
    "// add(2,3.0);\n",
    "// add(\"Wait... \", \"we did it again!\");"
   ]
  },
  {
   "cell_type": "markdown",
   "metadata": {},
   "source": [
    "There something that I mentioned earlier that's not taking place here. We're not jumping through any hoops at all. Something that we don't know when we're dealing with Generics is what type we're actually dealing with. So when trying to do things like addition. We actually don't know what we're adding together/comparing. It's just an [Object](https://docs.oracle.com/javase/8/docs/api/java/lang/Object.html)"
   ]
  },
  {
   "cell_type": "code",
   "execution_count": 13,
   "metadata": {},
   "outputs": [
    {
     "name": "stdout",
     "output_type": "stream",
     "text": [
      "5\n",
      "5\n",
      "5\n"
     ]
    }
   ],
   "source": [
    "public <N extends Number> void add(N x, N y) {\n",
    "    Integer ans = x.intValue() + y.intValue();\n",
    "    System.out.println(ans);\n",
    "}\n",
    "\n",
    "add(2,3);\n",
    "add(2.0,3.0);\n",
    "add(2,3.0);\n",
    "// add(\"Wait... \", \"we did it again!\");"
   ]
  },
  {
   "cell_type": "markdown",
   "metadata": {},
   "source": [
    "## Abstract Classes Revisited\n",
    "(See Quick Demos)"
   ]
  },
  {
   "cell_type": "markdown",
   "metadata": {},
   "source": [
    "## Interfaces Revisited\n",
    "(See Quick Demos)"
   ]
  }
 ],
 "metadata": {
  "kernelspec": {
   "display_name": "Java",
   "name": "python3610jvsc74a57bd080a400c01c78118b2ce1d50fe9f9ac89d81e3c1779f27e63b011330df7cd96a3"
  },
  "language_info": {
   "codemirror_mode": "java",
   "file_extension": ".jshell",
   "mimetype": "text/x-java-source",
   "name": "Java",
   "pygments_lexer": "java",
   "version": "15+36"
  },
  "orig_nbformat": 2
 },
 "nbformat": 4,
 "nbformat_minor": 2
}