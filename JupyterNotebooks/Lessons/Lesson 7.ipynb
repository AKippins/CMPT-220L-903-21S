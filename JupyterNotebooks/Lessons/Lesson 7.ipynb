{
 "cells": [
  {
   "cell_type": "markdown",
   "metadata": {},
   "source": [
    "# Software Development 1\n",
    "\n",
    "Topics for today will include:\n",
    "- Creating Classes\n",
    "    - Constructors\n",
    "- Multi File Applications\n",
    "    - Extending "
   ]
  },
  {
   "cell_type": "markdown",
   "metadata": {},
   "source": [
    "## Revisiting Objects\n",
    "Java as we should all know by now is an Object-Oriented Language. Because of that Java supports the following fundamental concepts as a base of the language.\n",
    "\n",
    "- Polymorphism\n",
    "- Inheritance\n",
    "- Encapsulation\n",
    "- Abstraction\n",
    "- Classes\n",
    "- Objects\n",
    "- Instance\n",
    "- Method\n",
    "- Message Passing\n",
    "\n",
    "Of this list hopefully you're already familiar with the first four concepts a little bit. If not that's ok we're gonna circle back to those later. For now we want to focus on Classes and Objects. If we're to think about it in a real world sense there are objects every where. We need to think about it a little deeper though. Objects have states. Some preform actions like a Microwave or a Stove. Some hold information like a notebook. Some hold other objects, like a backpack. \n",
    "\n",
    "What's important to take away here is that this isn't purely a coding concept. It exist normally in the world. Now if we think of any of the objects just listed. There are a plethora of possibilities that those things could have. My backpack could be small and red and yours could be large and pink. But they're both still backpacks. Objects are made using Classes.\n",
    "\n",
    "Classes act as a blueprint for making objects and are extensible. This is useful and actually clues us into some of what's been going on when we've been making our projects in IntelliJ. \n",
    "\n",
    "Up until now we've had the training wheels on and IntelliJ has been helping us out more than we know.\n",
    "\n",
    "Think about how it's been making a Main Class for us everytime and giving us a main method. These are things that are optional in a sense. We don't need them to be exactly what they are. We can modify those to be more expansive and have classes written in code across multiple files."
   ]
  },
  {
   "cell_type": "code",
   "execution_count": null,
   "metadata": {},
   "outputs": [],
   "source": []
  }
 ],
 "metadata": {
  "kernelspec": {
   "display_name": "Java",
   "language": "java",
   "name": "java"
  },
  "language_info": {
   "name": "java"
  },
  "orig_nbformat": 2
 },
 "nbformat": 4,
 "nbformat_minor": 2
}