{
 "cells": [
  {
   "cell_type": "markdown",
   "metadata": {},
   "source": [
    "# Software Development 1\n",
    "\n",
    "Topics for today will include:\n",
    "- Markdown\n",
    "- Codecademy\n",
    "- Hackerrank\n",
    "- Learning About Our Strengths\n",
    "- Interpreted vs Compiled\n",
    "- Learning About Maps(Do You Mean Dictionaries?)"
   ]
  },
  {
   "cell_type": "markdown",
   "metadata": {},
   "source": [
    "## [Markdown](https://www.markdownguide.org)\n",
    "---\n",
    "Markdown is an industry standard way to beautifully document our work. This is going to be helpful for you lab later. "
   ]
  },
  {
   "cell_type": "markdown",
   "metadata": {},
   "source": [
    "## [Codecademy](https://www.codecademy.com/catalog/language/bash)\n",
    "---\n",
    "Codecademy is an amazing resource that allows new and seasoned developers take courses. Formerly a primarily free platform there is some paid content out there. Some of which is still free!"
   ]
  },
  {
   "cell_type": "markdown",
   "metadata": {},
   "source": [
    "## [HackerRank](https://www.hackerrank.com)\n",
    "---\n",
    "We're going to continue our discussion on useful resources with HackerRank. HackerRank is a site that has practice problems revolving around a bunch of languages. This similar to last week isn't something that's required to play around with but may prove useful in the future. This can be used to improve your understanding of logic or possibly learn new things and get badges on the site. Companies often use sites like this for interviews so getting used to answering questions in a medium such as this one is a worth while endeavor for most."
   ]
  },
  {
   "cell_type": "markdown",
   "metadata": {},
   "source": [
    "### KISS (KEEP IT SIMPLE STUPID) and DOTS (DON'T OVER THINK SH!T)"
   ]
  },
  {
   "cell_type": "markdown",
   "metadata": {},
   "source": [
    "## Learning About Our Strengths\n",
    "---\n",
    "So, we have talked a little about why we chose Java as our language but we want to build on that. How can we be sure that we're using the language properly? What what it intended to do? How do others percieve Java? \n",
    "\n",
    "These are questions that often need to be asked to determine what our approach towards things should be. As someone new to programming it should be used as a basis for when you venture into other languages. \n",
    "\n",
    "> - 97% of Enterprise Desktops run Java.\n",
    "> - 89% of Desktops (or Computers) in the U.S. run Java.\n",
    "> - 9 Million Java Developers worldwide.\n",
    "> - Java is the number 1 choice for developers.\n",
    "> - Java continues to be the most used development platform.\n",
    "> - 3 billion mobile phones run Java.\n",
    "> - 100% of Blu-ray Disc Players ship with Java.\n",
    "> - There are currently over 5 billion Java Cards in use.\n",
    "> - 125 million TV devices run Java.\n",
    "> - 5 of the Top 5 Original Equipment Manufacturers Ship Java ME.\n",
    ">\n",
    "> According to CodeInstitute.net [Read the Article Here](https://codeinstitute.net/blog/what-is-java/)\n",
    "\n",
    "### Compiled Language\n",
    "---\n",
    "Java is a language that is compiled we'll touch on exactly what that means below. This makes things a little more complex when it comes to running thing which a lot of you have probably been noticing in the starting weeks. Luckily for us we have IntelliJ and VSCode that has been abstracting that from us. That doesn't mean that we can continue to ignore it. We have to start to take some of the power back. \n",
    "\n",
    "> Java is a class-based, object-oriented programming language that is designed to have as few implementation dependencies as possible. It is a general-purpose programming language intended to let application developers write once, run anywhere (WORA), meaning that compiled Java code can run on all platforms that support Java without the need for recompilation. Java applications are typically compiled to bytecode that can run on any Java virtual machine (JVM) regardless of the underlying computer architecture. The syntax of Java is similar to C and C++, but has fewer low-level facilities than either of them. The Java runtime provides dynamic capabilities (such as reflection and runtime code modification) that are typically not available in traditional compiled languages. As of 2019, Java was one of the most popular programming languages in use according to GitHub, particularly for client-server web applications, with a reported 9 million developers. -Wikipedia\n",
    "\n",
    "Now lets look into what Wikipedia has to say about compiled languages:\n",
    "> A compiled language is a programming language whose implementations are typically compilers (translators that generate machine code from source code), and not interpreters (step-by-step executors of source code, where no pre-runtime translation takes place).\n",
    ">\n",
    "> The term is somewhat vague. In principle, any language can be implemented with a compiler or with an interpreter. A combination of both solutions is also common: a compiler can translate the source code into some intermediate form (often called p-code or bytecode), which is then passed to an interpreter which executes it. -Wikipedia\n",
    "\n",
    "Now I wanted to look at these together for a reason. When we start to talk about compliled languages Java isn't purely compiled in the sense that it gets compiled into machine code. It gets compiled into bytecode and as explained that's fed into the JVM.\n",
    "\n",
    "### Java Virtual Machine\n",
    "---\n",
    "Small blurb about the JVM. After talking about how the complied code can then be run on the JVM we should mention it.\n",
    "\n",
    "> A Java virtual machine (JVM) is a virtual machine that enables a computer to run Java programs as well as programs written in other languages that are also compiled to Java bytecode. The JVM is detailed by a specification that formally describes what is required in a JVM implementation. Having a specification ensures interoperability of Java programs across different implementations so that program authors using the Java Development Kit (JDK) need not worry about idiosyncrasies of the underlying hardware platform. -Wikipedia\n",
    "\n",
    "### Flexible\n",
    "---\n",
    "The talk about the JVM can get us in the realm of speaking about the flexibility of Java. In the quote from Wikipedia above a reported 9 million developers are using Java. Also the JVM and the ability to just install a **JRE(Java Runtime Environment)** or **JDK(Java Development Kit)** and be up and running with Java code is what makes Java super flexible. It can be run anywhere there's a JVM available and that's a lot of places. \n",
    "\n",
    "Using Objects the code is reuseable. If you have a module for tracking people in a database since you're likely to make that an Object from the get go it makes the reuseability of the code higher. \n",
    "\n",
    "On the topic of flexibility it's growing into the modern world. Java is the chosen language for app development in the android space. Making it one of the languages that you'd want to be familiar with when it comes to App Development. \n",
    "\n",
    "### Dynamic vs Static Typing\n",
    "---\n",
    "Java is a Statically typed language. This often comes with being compiled. All that this means for us is that the compiler isn't is responsible for determining the typing of all of the things that we make. We have to define it. From variables to functions and what they might return. \n",
    "\n",
    "In a static typed language like Java, which is also a complied language. We have to explicitly say what type of variables that we're declaring. \n",
    "\n",
    "If you call back to Python we didn't have to do that. The Python interpreter figures out what we mean and defines these things for us. With things like Type Hinting we can help it out but that still more catered to helping the user than the interpreter.\n",
    "\n",
    "Dynamic typing means the interpreter will figure out types. \n",
    "\n",
    "Static typing means that we declare the types upon initialization.\n",
    "\n",
    "\n",
    "### Shell, PowerShell, Bash (Bourne Again Shell), and zsh\n",
    "---\n",
    "Shells are something that you can technically circumnavate for a long time in Computer Science. Though many lessons and different methods of doing things come through working in the shell. I wouldn't recommend straying away.\n",
    "\n",
    "Shells are a way to interact with your computer on an more interactive and heightened level. We can also run things like our python files without a text editor. In fact your text editor is just using your built in terminal.\n",
    "\n",
    "### What's A Terminal Then?\n",
    "---\n",
    "A terminal is the vessel that holds a shell. Some are more customizable, have better highlighting, better functionality, etc. than others. Here are the ones that I use for each platform\n",
    "\n",
    "#### Windows\n",
    "- [Windows Terminal](https://www.microsoft.com/en-us/p/windows-terminal/9n0dx20hk701?activetab=pivot:overviewtab)\n",
    "#### Mac\n",
    "- [ITerm2](https://iterm2.com)\n",
    "\n",
    "### Java Use Cases\n",
    "---\n",
    "Java can be used in plethora of locations for a plethora of applications. Here are some of the bigger fields that Java is being used in.\n",
    "\n",
    ">- Mobile Applications\n",
    ">- Desktop GUI Applications\n",
    ">- Web-based Applications\n",
    ">- Enterprise Applications\n",
    ">- Scientific Applications\n",
    ">- Gaming Applications\n",
    ">- Big Data technologies\n",
    ">- Business Applications\n",
    ">- Distributed Applications\n",
    ">- Cloud-based Applications\n",
    ">\n",
    "> According to Edureka [Read the Article Here](https://www.edureka.co/blog/applications-of-java/)"
   ]
  },
  {
   "cell_type": "markdown",
   "metadata": {},
   "source": [
    "## Compiled vs Interpreted\n",
    "---\n",
    "Programming languages typically get converted into machine code using one of two methods. The code can either be interpreted and/or compiled. The and/or is important!\n",
    "\n",
    "### Being Compiled\n",
    "---\n",
    "Compliled languages are languages that are compiled and that process changes the code that you've written into machine code directly and ahead of time. These languages tend to be the lower level languages. These are usually faster and more efficent. These have a compile step that's required to be manually run whenever something changes. \n",
    "\n",
    "### Being Interpreted\n",
    "---\n",
    "Interpreted languages are languages that decide what's happening at run time. These languages are read in and exexuted by some program on the system. This means that things are changed into machine code in real time often. So if something were to change in real time you don't need to worry about the complilation step cause the program is going to deal with it as it comes up. \n",
    "\n",
    "### What's a Compiler\n",
    "---\n",
    "A compiler is just something that can directly translate the chosen language into machine code. \n",
    "\n",
    "### Which One is Better?\n",
    "---\n",
    "[You can decide!](https://www.freecodecamp.org/news/compiled-versus-interpreted-languages/)"
   ]
  },
  {
   "cell_type": "markdown",
   "metadata": {},
   "source": [
    "## Learning About Maps(Do You Mean Dictionaries?)\n",
    "---\n",
    "There's one thing from Python that we need for Java that will spin us into learning about a bunch of relative data types. That's dictionaries! Dictionaries are a super valuable tool and it's done a little differently in Java considering that we have to declare everything that we do. "
   ]
  },
  {
   "cell_type": "code",
   "execution_count": 1,
   "metadata": {
    "tags": []
   },
   "outputs": [
    {
     "name": "stdout",
     "output_type": "stream",
     "text": [
      "a\n"
     ]
    }
   ],
   "source": [
    "import java.util.HashMap;\n",
    "\n",
    "HashMap<Integer, String> cipher = new HashMap<Integer, String>();\n",
    "\n",
    "cipher.put(1, \"a\");\n",
    "cipher.put(2, \"b\");\n",
    "cipher.put(3, \"c\");\n",
    "cipher.put(4, \"d\");\n",
    "cipher.put(5, \"e\");\n",
    "cipher.put(6, \"f\");\n",
    "\n",
    "System.out.println(cipher.get(1));"
   ]
  }
 ],
 "metadata": {
  "kernelspec": {
   "display_name": "Java",
   "language": "java",
   "name": "java"
  },
  "language_info": {
   "codemirror_mode": "java",
   "file_extension": ".jshell",
   "mimetype": "text/x-java-source",
   "name": "Java",
   "pygments_lexer": "java",
   "version": "15+36"
  },
  "orig_nbformat": 2
 },
 "nbformat": 4,
 "nbformat_minor": 2
}