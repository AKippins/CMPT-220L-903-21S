{
 "cells": [
  {
   "cell_type": "markdown",
   "metadata": {},
   "source": [
    "# Software Development 1\n",
    "\n",
    "Topics for today will include:\n",
    "- Recursion\n",
    "    - Head End\n",
    "    - Tail End\n",
    "- Tree Manipulation\n",
    "    - Deleting a Node\n",
    "    - Tree Reorganization\n",
    "- Tree Traversals\n",
    "    - In Order\n",
    "    - Pre Order\n",
    "    - Post Order\n",
    "- Advanced Tree Searches\n",
    "    - Breadth First Search\n",
    "    - Depth First Search\n",
    "    "
   ]
  },
  {
   "cell_type": "markdown",
   "metadata": {},
   "source": [
    "## Recursion\n",
    "At this point in your computing careers you should have seen and possibly used recursion. Past the initial concept of recursion we have a few different versions and ways that we can go about doing this. We'll go into a couple of them in a theoretical sense. Recursion isn't always needed but can be used in certain aspects where we may need parse over options and suboptions of those options.\n",
    "\n",
    "### Linear Recursion\n",
    "Linear recursion is a function that only makes a single call whenever it passes through the function. (There are versions that could possibly call itself multiple times while it's running.)"
   ]
  },
  {
   "cell_type": "code",
   "execution_count": 13,
   "metadata": {},
   "outputs": [
    {
     "data": {
      "text/plain": "55"
     },
     "execution_count": 13,
     "metadata": {},
     "output_type": "execute_result"
    }
   ],
   "source": [
    "public int summation(int number){\n",
    "    if (number == 0) {\n",
    "        return number;\n",
    "    } else {\n",
    "        return number + summation(number - 1);\n",
    "    }\n",
    "}\n",
    "\n",
    "summation(10);"
   ]
  },
  {
   "cell_type": "markdown",
   "metadata": {},
   "source": [
    "### Tail End Recursion\n",
    "Tail end recursion is a form of linear recursion. For tail end recursion, the recursive call is going to be the last call in the function. Typically the value of the call is what's being returned. Because, of this recursive functions can usually also be implemented in an iterative manner by replacing your recursive function call with a loop. Some times for optimization compilers will do this to improve the performance of the code."
   ]
  },
  {
   "cell_type": "code",
   "execution_count": 12,
   "metadata": {},
   "outputs": [
    {
     "data": {
      "text/plain": "55"
     },
     "execution_count": 12,
     "metadata": {},
     "output_type": "execute_result"
    }
   ],
   "source": [
    "public int summation_tail(int number, int currentTotal){\n",
    "    if (number <= 1) {\n",
    "        return currentTotal + number;\n",
    "    } else {\n",
    "        return summation_tail(number - 1, currentTotal + number);\n",
    "    }\n",
    "}\n",
    "\n",
    "summation_tail(10, 0);"
   ]
  },
  {
   "cell_type": "markdown",
   "metadata": {},
   "source": [
    "### Head End Recursion\n",
    "For Head end recursion it's typically the opposite and the call comes at the head of the function and is first thing to generally happen. Tail end and just regular linear recursion are more often seen. "
   ]
  },
  {
   "cell_type": "code",
   "execution_count": 14,
   "metadata": {},
   "outputs": [
    {
     "data": {
      "text/plain": "55"
     },
     "execution_count": 14,
     "metadata": {},
     "output_type": "execute_result"
    }
   ],
   "source": [
    "public int summation_head(int number, int currentTotal){\n",
    "    if (number > 0) {\n",
    "        return summation_head(number - 1, currentTotal + number);\n",
    "    } else {\n",
    "        return currentTotal + number;\n",
    "    }\n",
    "}\n",
    "\n",
    "summation_head(10, 0);"
   ]
  },
  {
   "cell_type": "markdown",
   "metadata": {},
   "source": [
    "## Tree Manipulation\n",
    "In terms of our trees we need to start thinking about how we manipulate our tree when things need to be restructured. Now this mainly happens when we need to delete a node from out tree. First, lets talk about deleting a node from out tree.\n",
    "\n",
    "### [Deleting a Node](https://inst.eecs.berkeley.edu/~cs61bl/r//cur/binary-search-trees/deletion-bst.html?topic=lab17.topic&step=1&course=)\n",
    "When we delete a node from our tree we can possibly run into an issue on where things move in the tree. Depending on where the node is we have to think about things easily. If the node in question is a leaf(Node with no children) then we can usually just get rid of it and move on with our lives. That, or if the node only has one child we can just move the child up to the spot that the parent node was in. \n",
    "\n",
    "Now that we've discussed the the easy ways to go about this. There are problems that arise when a node has 2 children. For this we can go and look for the next option in order and attempt to use that if it falls under the 2 easy pretenses that we have above, leaf or one child. Then what we can do is take that option and place it in place of the node to be deleted.\n",
    "\n",
    "### Tree Reorganization\n",
    "For the sake of this semester and our projects we're not looking to have the most efficient reorganization when it comes to fixing our tree. When we're restructuring and reorganizing our tree we'd like to do as little as possible. Now if this proves to be too complex realize that something is better than nothing and having to rebuild the tree from scratch isn't the end of the world. \n",
    "\n",
    "A lazy way to do this would be to traverse the tree in order. Put the values into a queue. Delete the value that has been targeted. The dequeue the item and insert them into a new tree and return your new tree. This maybe easier to implement but! It may not be efficent and might take a while. Especially when we have larger BSTs. We could also run a preorder traversal of the tree and skip the value to be deleted."
   ]
  },
  {
   "cell_type": "markdown",
   "metadata": {},
   "source": [
    "## [Tree Traversals](https://www.geeksforgeeks.org/tree-traversals-inorder-preorder-and-postorder/)\n",
    "So unlike the data structure that we've been dealing with and talking about so far there are multiple different ways to traverse trees. Similar with searching. Because of this you wanna be able to understand these different ways of traversing the trees. The types of traversals that we're going to be dealing with are depth first. (More on that in a minute)\n",
    "\n",
    "(Examples in title link)\n",
    "\n",
    "### In Order (Left, Root, Right)\n",
    "In order traversals will start at the bottom left portion of the tree and travel through the left node up to the root and then down to the right node. So, left subtree, root, right subtree\n",
    "\n",
    "### Pre Order (Root, Left, Right)\n",
    "Pre order traversals are a little different. We're traversing through the tree from the top and going down. So we're starting at the root this time and then traveling through the left subtree and then through the right subtree. \n",
    "\n",
    "### Post Order (Left, Right, Root)\n",
    "Post order traversals tweak things in a minor sense again. We're sorta working from the bottom up. So now we're going to again start from the bottom left but then we go to the right node. Then to the root and work up the tree that way. "
   ]
  },
  {
   "cell_type": "markdown",
   "metadata": {},
   "source": [
    "## [Advanced Tree Searches](https://medium.com/nothingaholic/depth-first-search-vs-breadth-first-search-in-python-81521caa8f44)\n",
    "After discussing how we can look at trees we need to realize that there are a couple ways of searching through it. First we need to think on the concept of depth vs breadth first. To know something in depth typically means that you know a lot about one subject or that you have a deep knowledge on something. Whereas breadth is working across a field of things rather than down it.\n",
    "\n",
    "So bringing things into our realm in terms of searching we're going to be looking into searching across our tree first vs deep down into our tree first.\n",
    "\n",
    "### Breadth First Search\n",
    "We're going to talk about Breadth First Search first because it makes sense counting upwards. We're looking across the tree and go level by level. We start at the root, then go down to the children, then to the grandchildren, great grandchildren, etc, etc. \n",
    "\n",
    "As we're talking about this we need to look at the current node, see if it has any children, acknowledge that we processed the node and then move on. That being said we need a way to hold values until we're done processing them. Here we're done with a node after we've seen all of it's children and have stored them.\n",
    "\n",
    "### Depth First Search\n",
    "Next going into Depth First Search as we mentioned before we're going to be looking to go down into all of the subtrees before we work across the trees. Essentially we're working down and then left to right. \n",
    "\n",
    "Similar to the breadth first. We need to think of a way to hold this in code. So we need to look at a node, check for children and hold onto the node until we've processed the children. Meaning our parent nodes need to be held and stored. Ejecting them after the children have been processed. Here we're done processing a node when we reach a dead end on the tree. "
   ]
  },
  {
   "cell_type": "code",
   "execution_count": null,
   "metadata": {},
   "outputs": [],
   "source": []
  }
 ],
 "metadata": {
  "kernelspec": {
   "display_name": "Java",
   "name": "python3610jvsc74a57bd080a400c01c78118b2ce1d50fe9f9ac89d81e3c1779f27e63b011330df7cd96a3"
  },
  "language_info": {
   "codemirror_mode": "java",
   "file_extension": ".jshell",
   "mimetype": "text/x-java-source",
   "name": "Java",
   "pygments_lexer": "java",
   "version": "15+36"
  },
  "orig_nbformat": 2
 },
 "nbformat": 4,
 "nbformat_minor": 2
}