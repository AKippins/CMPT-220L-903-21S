{
 "cells": [
  {
   "cell_type": "markdown",
   "metadata": {},
   "source": [
    "# Software Development 1\n",
    "---\n",
    "Topics for today will include:\n",
    "- Conditionals... again?\n",
    "    - Switch Case\n",
    "- Loops\n",
    "    - For\n",
    "    - For Each\n",
    "    - While\n",
    "- Importance of Design\n",
    "- Functions\n",
    "    - Why use functions\n",
    "    - How to make functions\n",
    "    - Functions in classes\n",
    "- Java Style Guide\n",
    "    - Why is programming style important\n",
    "    - Google Style Guide\n",
    "    - Oracle Style Guide\n",
    "- Linter\n",
    "    - SonarLint\n"
   ]
  },
  {
   "cell_type": "markdown",
   "metadata": {},
   "source": [
    "# Conditionals... Again?\n",
    "Wait I thought we already did this. If, else, else if. We're done right? \n",
    "\n",
    "Ok so this is where we're going to see a difference from Python. In most other languages there's another way to use conditionals.\n",
    "\n",
    "## Switch Case\n",
    "Switch Case is what we want to use in the case where we have a lot of options. We have the ability to list out a bunch option and a variable to check on to compare them too. So for for instance."
   ]
  },
  {
   "cell_type": "code",
   "execution_count": 1,
   "metadata": {},
   "outputs": [
    {
     "name": "stdout",
     "output_type": "stream",
     "text": [
      "Charmander is so cool and it's evolutions are awesome!\n",
      "Bulbasaur is super cute and is sneakily powerful!\n",
      "Squirtle is dope! Best starter imo ^_^!\n",
      "Not an OG pokemon game type huh?\n"
     ]
    }
   ],
   "source": [
    "String starter = \"Charmander\";\n",
    "\n",
    "switch(starter){\n",
    "    case \"Charmander\":\n",
    "        System.out.println(\"Charmander is so cool and it's evolutions are awesome!\");\n",
    "    case \"Bulbasaur\":\n",
    "        System.out.println(\"Bulbasaur is super cute and is sneakily powerful!\");    \n",
    "    case \"Squirtle\":\n",
    "        System.out.println(\"Squirtle is dope! Best starter imo ^_^!\");\n",
    "    default:\n",
    "        System.out.println(\"Not an OG pokemon game type huh?\");\n",
    "}"
   ]
  },
  {
   "cell_type": "markdown",
   "metadata": {},
   "source": [
    "### Break Statement\n",
    "Now that we kinda see how it works we actually ran into something odd here. Did you catch it? \n",
    "\n",
    "Well if you didn't that's fine. We're printing out multiple values. Although we selected one we're printing out all of the ones below it. So we need to fix this but otherwise we're golden.\n",
    "\n",
    "This is where we have the ability to use an optional statement here. This statement is called `break` the `break` statement is used for more than just Switch Case but more on that later. The `break` statement is basically telling the program to break out of the current scope and moving on to the next portion of the program."
   ]
  },
  {
   "cell_type": "code",
   "execution_count": 6,
   "metadata": {},
   "outputs": [
    {
     "name": "stdout",
     "output_type": "stream",
     "text": [
      "Not an OG pokemon game type huh?\n"
     ]
    }
   ],
   "source": [
    "String starter = \"Cyndaquil\";\n",
    "\n",
    "switch(starter){\n",
    "    case \"Charmander\":\n",
    "        System.out.println(\"Charmander is so cool and it's evolutions are awesome!\");\n",
    "        break;\n",
    "    case \"Bulbasaur\":\n",
    "        System.out.println(\"Bulbasaur is super cute and is sneakily powerful!\");\n",
    "        break;\n",
    "    case \"Squirtle\":\n",
    "        System.out.println(\"Squirtle is dope! Best starter imo ^_^!\");\n",
    "        break;\n",
    "    default:\n",
    "        System.out.println(\"Not an OG pokemon game type huh?\");\n",
    "}"
   ]
  },
  {
   "cell_type": "markdown",
   "metadata": {},
   "source": [
    "# Loops\n",
    "Loops run in a similar way to what we've seen so far. Syntax changes a little bit and that's it for the most part. \n",
    "\n",
    "My personal philosophy for that is that we rarely ever need to use while loops. There are definetly scenarios where that is relevant and viable but for the most part when you're looping you have 2 conditions. You have knowledge of how many times you need to loop. You're unsure when your signal will come and looking for some trigger to happen. The first is where we can use a for loop. The second is where we'd be using a while loop. Most of the time we're probably going to fall into the first category.\n",
    "\n",
    "As I've said this is a personal philosophy. You can use while loops for everything in some way or another but you totally shouldn't. The reason that I say this is because you can get into trouble with infinite loops and memory leaks if something isn't closed properly. In a classroom setting this usually isn't that big of a deal/you'll hardly ever notice it. When we start to talk about running in a production, commercial, or enterprise environment we're not running things on a short spurt basis. Applications are running for days, months, possibly even years. Even a small leak over several months or years can be massively detrumental. \n",
    "\n",
    "TLDR: Be careful when using while loops. \n",
    "\n",
    "## For\n",
    "Alright after all of that let's get into it. For loops run the same way for the most part but the syntax is a little different. The piece that's different is the definition of how long the loop is going to run for.\n",
    "\n",
    "for (< some variable value >; < conditional >; < what you increment by >) {\n",
    "\n",
    "}\n"
   ]
  },
  {
   "cell_type": "code",
   "execution_count": 5,
   "metadata": {},
   "outputs": [
    {
     "name": "stdout",
     "output_type": "stream",
     "text": [
      "We're currently printing out: 0\n",
      "We're currently printing out: 1\n",
      "We're currently printing out: 2\n",
      "We're currently printing out: 3\n",
      "We're currently printing out: 4\n",
      "We're currently printing out: 5\n",
      "We're currently printing out: 6\n",
      "We're currently printing out: 7\n",
      "We're currently printing out: 8\n",
      "We're currently printing out: 9\n",
      "We're currently printing out: 10\n"
     ]
    }
   ],
   "source": [
    "for (int x = 0; x < 11; x++) {\n",
    "    System.out.println(\"We're currently printing out: \" + x);\n",
    "}"
   ]
  },
  {
   "cell_type": "code",
   "execution_count": 7,
   "metadata": {},
   "outputs": [
    {
     "name": "stdout",
     "output_type": "stream",
     "text": [
      "We're currently printing out: 0\n",
      "We're currently printing out: 1\n",
      "We're currently printing out: 2\n",
      "We're currently printing out: 3\n",
      "We're currently printing out: 4\n",
      "We're currently printing out: 5\n",
      "We're currently printing out: 6\n",
      "We're currently printing out: 7\n",
      "We're currently printing out: 8\n",
      "We're currently printing out: 9\n",
      "We're currently printing out: 10\n"
     ]
    }
   ],
   "source": [
    "for (int x = 0; x < 11; ++x) {\n",
    "    System.out.println(\"We're currently printing out: \" + x);\n",
    "}"
   ]
  },
  {
   "cell_type": "markdown",
   "metadata": {},
   "source": [
    "## For Each\n",
    "Our next example is for each. This is a for loop but instead of defining a range to go to, we're going to give it a set of something to go over. This is typically the loop that I personally use the most. The reason that I like using this loop so much is that it kinda idiot proofs somethings for you. Typically I'm looping over a list. So this works for me a lot of the time.\n",
    "\n",
    "for (< Some variable >: < list >){\n",
    "    \n",
    "}"
   ]
  },
  {
   "cell_type": "code",
   "execution_count": 6,
   "metadata": {},
   "outputs": [
    {
     "name": "stdout",
     "output_type": "stream",
     "text": [
      "Red\n",
      "Orange\n",
      "Yellow\n",
      "Green\n",
      "Blue\n",
      "Indigo\n",
      "Violet\n"
     ]
    }
   ],
   "source": [
    "// Defined List\n",
    "String[] rainbow = {\"Red\", \"Orange\", \"Yellow\", \"Green\", \"Blue\", \"Indigo\", \"Violet\"};\n",
    "\n",
    "for (String color: rainbow) {\n",
    "    System.out.println(color);\n",
    "}"
   ]
  },
  {
   "cell_type": "markdown",
   "metadata": {},
   "source": [
    "## While\n",
    "Finally we have our while loops. While loops are just looking for a condition to tell them when we need to break out of the loop. When we think about it. It's while this condition is true we loop. Otherwise we break out. \n",
    "\n",
    "The main reason that while loops are scary is because we have the potential to fall into infinite loops. "
   ]
  },
  {
   "cell_type": "code",
   "execution_count": 3,
   "metadata": {},
   "outputs": [
    {
     "name": "stdout",
     "output_type": "stream",
     "text": [
      "We haven't found the secret number yet.\n",
      "We haven't found the secret number yet.\n",
      "We haven't found the secret number yet.\n",
      "We haven't found the secret number yet.\n",
      "We haven't found the secret number yet.\n",
      "We haven't found the secret number yet.\n",
      "We haven't found the secret number yet.\n",
      "We found the secret number! It was: 7\n"
     ]
    }
   ],
   "source": [
    "import java.lang.Math;\n",
    "\n",
    "int min = 0;\n",
    "int max = 10;\n",
    "int range = max - min + 1;\n",
    "int secretNumber = (int) (Math.random() * range) + min;\n",
    "\n",
    "int position = 0;\n",
    "\n",
    "while (position != secretNumber) {\n",
    "    System.out.println(\"We haven't found the secret number yet.\");\n",
    "    position++;\n",
    "}\n",
    "\n",
    "System.out.println(\"We found the secret number! It was: \" + secretNumber);"
   ]
  },
  {
   "cell_type": "markdown",
   "metadata": {},
   "source": [
    "# The Importance of Design\n",
    "\n",
    "---\n",
    "So this is a topic that I didn't learn the importance of until I was in the work force. Design is a major influence in the way that code is build and in a major capacity and significant effect on the industry. \n",
    "\n",
    "Let's pretend we have a client that wants us to do the following:\n",
    "- Write a function which will count the number of times any one character appears in a string of characters. \n",
    "- Write a main function which takes the character to be counted from the user and calls the function, outputting the result to the user.\n",
    "\n",
    "For example, are you like Android and take the latest and greatest and put them into phones in an unregulated hardware market. Thus leaving great variability in the market for your brand? Are you an Apple where you control the full stack. Your hardware and software may not be bleeding edge but it's seamless and uniform.\n",
    "\n",
    "What does the market want? What are you good at? Do you have people around you that can fill your gaps?\n",
    "\n",
    "Here's a blurb from a friend about the matter:\n",
    ">Design, often paired with the phrase \"design thinking\", is an approach and method of problem solving that builds empathy for user(s) of a product, resulting in the creation of a seamless and delightful user experience tailored to the user's needs.\n",
    ">\n",
    ">Design thinks holistically about the experience that a user would go through when encountering and interacting with a product or technology. Design understands the user and their needs in great detail so that the product team can build the product and experience that fits what the user is looking for. We don't want to create products for the sake of creating them, we want to ensure that there is a need for it by a user.\n",
    ">\n",
    ">Design not only focuses on the actual interface design of a product, but can also ensure the actual technology has a seamless experience as well. Anything that blocks potential users from wanting to buy a product or prohibits current users from utilizing the product successfully, design wants to investigate. We ensure all pieces fit together from the user's standpoint, and we work to build a bridge between the technology and the user, who doesn't need to understand the technical depths of the product.\n",
    ">\n",
    ">-Izzi Cain\n",
    "\n",
    "### Sorting Example [(Toptal Sorting Algorithms)](https://www.toptal.com/developers/sorting-algorithms)\n",
    "---\n",
    "Hypothetical, a client comes to you and they want you sort a list of numbers how do you optimally sort a list? `[2, 5, 6, 1, 4, 3]`\n",
    "\n",
    "### Design Thinking [(IBM Design Thinking)](https://www.ibm.com/design/thinking/)\n",
    "---\n",
    "As this idea starts to grow you come to realize that different companies have different design methodologies. IBM has it's own version of Design Thinking. You can find more information about that at the site linked in the title. IBM is very focused on being exactly like its customers in most aspects. \n",
    "\n",
    "What we're mostly going to take from this is that there are entire careers birthed from thinking before you act. That being said we're going to harp on a couple parts of this.\n",
    "\n",
    "### Knowing what your requirements are\n",
    "---\n",
    "One of the most common scenarios to come across is a product that is annouced that's going to change everything. In the planning phase everyone agrees that the idea is amazing and going to solve all of our problems. \n",
    "\n",
    "We get down the line and things start to fall apart, we run out of time. Things ran late, or didn't come in in time pushing everything out. \n",
    "\n",
    "Scope creep ensued.\n",
    "\n",
    "This is typically the result of not agreeing on what our requirements are. Something as basic as agreeing on what needs to be done needs to be discussed and checked on thouroughly. We do this because often two people rarely are thinking exactly the same thing.\n",
    "\n",
    "You need to be on the same page as your client and your fellow developers as well. If you don't know ask. \n",
    "\n",
    "### Planning Things Out\n",
    "---\n",
    "We have an idea on what we want to do. So now we just write it? No, not quite. We need to have a rough plan on how we're going to do things. Do we want to use functions, do we need a quick solution, is this going to be verbose and complex? \n",
    "\n",
    "It's important to look at what we can set up for ourselves. We don't need to make things difficult by planning things out poorly. This means allotting time for things like getting stuck and brainstorming.\n",
    "\n",
    "### Breaking things down\n",
    "---\n",
    "Personally I like to take my problem and scale it down into an easy example so in the case of our problem. The client may want to process a text like Moby Dick. We can start with a sentence and work our way up!\n",
    "\n",
    "Taking the time to break things in to multiple pieces and figure out what goes where is an art in itself.\n"
   ]
  },
  {
   "cell_type": "code",
   "execution_count": 5,
   "metadata": {},
   "outputs": [
    {
     "name": "stdout",
     "output_type": "stream",
     "text": [
      "1\n"
     ]
    }
   ],
   "source": [
    "int characterFinder(char targetCharacter, String string) {\n",
    "    int total = 0;\n",
    "    for (char character: string.toCharArray()){\n",
    "        if (character == targetCharacter) {\n",
    "            total++;\n",
    "        }\n",
    "    }\n",
    "    return total;\n",
    "}\n",
    "\n",
    "int output = characterFinder('z', \"Quick brown fox jumped over the lazy dog\");\n",
    "System.out.println(output);"
   ]
  },
  {
   "cell_type": "markdown",
   "metadata": {},
   "source": [
    "# Methods(Functions)\n",
    "Functions aren't a new thing to us but it is being presented in a new way. First and foremost it's called a method in Java. That being said let's recap really quick. \n",
    "\n",
    "Functions define a series of actions that are repeatable. This helps us reuse code and develop code infastructures and frameworks. The use of functions makes it so that we don't have to rewrite things that we've done or written already. \n",
    "\n",
    "## Why Use Methods(Functions)?\n",
    "---\n",
    "\n",
    "### Keeping Our Code Dry\n",
    "What does this even mean??? \n",
    "\n",
    "If we want code to be dry then it can be wet? \n",
    "\n",
    "#### WET (Write Every Time)\n",
    "\n",
    "Ok so what is dry?\n",
    "\n",
    "#### DRY (Don't Repeat Yourself)\n",
    "\n",
    "### Is Our Code WET?\n",
    "\n",
    "So we look to see if we're repeating ourselves in our code and look to minimize and generalize where we can. Modularity is key here. Not only does it mean we have fewer lines of code. This is then easier to use. Easier to follow. Then finally easier to test\n",
    "\n",
    "So we should be looking for areas where blocks of code are similar and looking to make them into functions. \n",
    "\n",
    "### How Do We DRY Off?\n",
    "\n",
    "- We look to reduce repeated code\n",
    "- We get rid of magic numbers\n",
    "    - A magic number is a number just floating out there.\n",
    "    - `age * 7` What is 7? Why are we multiplying age by it? \n",
    "    - `DOG_YEARS_MULTIPLIER = 7` gives the number meaning. \n",
    "        - When a variable is written in all caps that typically means that it's a constant.\n",
    "        - Constants aren't supposed to be changed.\n",
    "    - `age * DOG_YEARS_MULTIPLIER`\n",
    "- We use functions and classes whereever applicable \n",
    "\n",
    "### The Importance of DRY Code\n",
    "---\n",
    "Dry code is important for a ton of reasons. \n",
    "\n",
    "[Read this article about DRY code for more!](https://www.softwareyoga.com/is-your-code-dry-or-wet/)\n",
    "\n",
    "## How To Make Functions\n",
    "\n",
    "This is a little different before we get into it. We don't have a define keyword. We start with the return type. \n",
    "\n",
    "```\n",
    "<return type> <function name> (<Parameter Type> <Parameters>, <Parameter Type> <Parameters>) {\n",
    "    // Write your code here\n",
    "}\n",
    "```"
   ]
  },
  {
   "cell_type": "code",
   "execution_count": null,
   "metadata": {},
   "outputs": [],
   "source": [
    "int addition (int input1, int input2) {\n",
    "    return input1 + input2;\n",
    "}"
   ]
  },
  {
   "cell_type": "markdown",
   "metadata": {},
   "source": [
    "# Java Style Guide\n",
    "## Why is programming style important\n",
    "\n",
    "Style is important because good style can make code easier to understand and debug when things go wrong. It also makes it so that when we start to collaborate on code and write code in others modules that it's uniform. If two people write their code in a similar manner that makes it so that the code can be written in about half the time. \n",
    "\n",
    "Some of the important pieces that style guides try to regulate are as follows:\n",
    "\n",
    "- Variable, Class, Module, File Name, and Function naming conventions\n",
    "- Tabs vs Spaces\n",
    "- Maximum Line Length\n",
    "- Importing Modules\n",
    "- Commentting and Documenting Code\n",
    "- And a lot more. \n",
    "\n",
    "For the rest of the semester we'll be trying to adhere to some of the things that PEP8 requires of programmers. \n",
    "## [Google Style Guide](https://google.github.io/styleguide/javaguide.html)"
   ]
  },
  {
   "cell_type": "markdown",
   "metadata": {},
   "source": [
    "# Linters\n",
    "## [SonarLint](https://www.sonarlint.org)"
   ]
  },
  {
   "cell_type": "code",
   "execution_count": 1,
   "metadata": {},
   "outputs": [
    {
     "name": "stdout",
     "output_type": "stream",
     "text": [
      "I think it's fixed\n"
     ]
    }
   ],
   "source": [
    "System.out.println(\"I think it's fixed\")"
   ]
  },
  {
   "cell_type": "code",
   "execution_count": null,
   "metadata": {},
   "outputs": [],
   "source": []
  }
 ],
 "metadata": {
  "kernelspec": {
   "display_name": "Java",
   "language": "java",
   "name": "java"
  },
  "language_info": {
   "codemirror_mode": "java",
   "file_extension": ".jshell",
   "mimetype": "text/x-java-source",
   "name": "Java",
   "pygments_lexer": "java",
   "version": "15+36"
  },
  "orig_nbformat": 2
 },
 "nbformat": 4,
 "nbformat_minor": 2
}