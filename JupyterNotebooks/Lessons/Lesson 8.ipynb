{
 "cells": [
  {
   "cell_type": "markdown",
   "metadata": {},
   "source": [
    "# Software Development 1\n",
    "\n",
    "Topics for today will include:\n",
    "- Tree\n",
    "- Binary Tree\n",
    "- Binary Search Tree"
   ]
  },
  {
   "cell_type": "markdown",
   "metadata": {},
   "source": [
    "## Abstract Data Types\n",
    "Before we get into Abstract Data Types we need to think about Abstraction first. With abstraction we're hiding unnecessary details from the user. This allows us to build on top of these objects with little or no knowledge of the data type sitting on top of it. \n",
    "\n",
    "Abstract Data Types in terms of Computer Science take that a little further. They give the blueprint for what's supposed to happen with the functionality and leave it at that. So in the instance of a Stack and a Queue their actions are \n",
    "\n",
    "Queue:\n",
    "- Enqueue: Insert data item into the queue\n",
    "- Dequeue: Removes the first item from the queue\n",
    "- Front: Accesses and serves the first data item in the queue\n",
    "\n",
    "Stack:\n",
    "- Push: Inserts data onto the stack\n",
    "- Pop: Removes a data item from the stack\n",
    "- Peek: Accesses a data item on top of the stack without removal\n",
    "\n",
    "[Abstract Data Types](https://en.wikipedia.org/wiki/Abstract_data_type)"
   ]
  },
  {
   "cell_type": "markdown",
   "metadata": {},
   "source": [
    "## Tree\n",
    "We're going to discuss a Tree which is another Abstract Data Type that has Root and Subtrees spawning off the root. Similar to a regular tree the root is the base of the tree and then from there can spawn branches and nodes. \n",
    "\n",
    "As a Node you can be a parent and/or a child and have other nodes linked to you or be linked to other nodes. There is a set of terminology that comes with this that can be found researching it. It's on the Wiki page linked below. \n",
    "\n",
    "There has to be one root node and nodes can't have more than one parent. \n",
    "\n",
    "[Tree](https://en.wikipedia.org/wiki/Tree_(data_structure))"
   ]
  },
  {
   "cell_type": "markdown",
   "metadata": {},
   "source": [
    "## Binary Tree\n",
    "Now we have an extension of that in a Binary Tree. \n",
    "\n",
    "So for this now we can only have at most two children. A left and a right. Outside of that things are relatively the same. This is what we're going for being modular. Just adding a little by a little going on and we're going to do a little more of that in a second with the next type.\n",
    "\n",
    "[Binary Tree](https://en.wikipedia.org/wiki/Binary_tree)"
   ]
  },
  {
   "cell_type": "markdown",
   "metadata": {},
   "source": [
    "## Binary Search Tree\n",
    "Finally for today we have the Binary Search Tree and we'll be creating one of these as our semester project. There are a lot of potential things that can come with this. \n",
    "\n",
    "Different methods of searching. Different ways to traverse the tree. Different ways to search elements in the tree. Different rules on dealing with duplicates. Different ways to delete elements. We get the point. \n",
    "\n",
    "When we have generalities like this we have a plethora of ways to do things. We're going to explore some of that. \n",
    "\n",
    "[Binary Search Tree](https://en.wikipedia.org/wiki/Binary_search_tree)"
   ]
  },
  {
   "cell_type": "raw",
   "metadata": {},
   "source": []
  }
 ],
 "metadata": {
  "kernelspec": {
   "display_name": "Java",
   "name": "java"
  },
  "language_info": {
   "name": "java"
  },
  "orig_nbformat": 2
 },
 "nbformat": 4,
 "nbformat_minor": 2
}