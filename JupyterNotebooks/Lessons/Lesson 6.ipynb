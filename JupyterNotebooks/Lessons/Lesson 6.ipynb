{
 "cells": [
  {
   "cell_type": "markdown",
   "metadata": {},
   "source": [
    "# Software Development 1\n",
    "\n",
    "Topics for today will include:\n",
    "- Javadoc\n",
    "- Reference Data Types\n",
    "- Linear Data Structures\n",
    "    - Arrays\n",
    "    - ArrayLists\n",
    "    - Queues\n",
    "    - LinkedList\n",
    "    - Stacks\n",
    "- Revisiting Objects"
   ]
  },
  {
   "cell_type": "markdown",
   "metadata": {},
   "source": [
    "## JavaDoc\n",
    "Coming off of a lab dealing with Markdown, discussing documentation seems like a good place to go next. Documentation is something that is super simple in concept but rather difficult to implement. At it's core documentation is simple. It's a set of instructions on how to use a product. When you really start to think about it though, it can quickly balloon into something rather complex. \n",
    "\n",
    "When thinking about documentation, is your audience:\n",
    "\n",
    "- Tech Savvy\n",
    "- Tech Illiterate\n",
    "- Younger\n",
    "- Older\n",
    "- Familiary With The Technology\n",
    "- A Developer Themselves\n",
    "- A Malicious User\n",
    "\n",
    "Thinking about all of these different scenarios you'd potentially write to them all in a different way. For someone that's Tech Savvy you may not need to give them as much detail because they may get the underlying theme of how your technology works and just need you to tell them how to implement it. \n",
    "\n",
    "For some one younger you may be able to use parallels to compare it to something they understand so that they get it, but that same example doesn't make any sense to someone older. \n",
    "\n",
    "We also need to alter our documentation for the medium that it's going to be consumed. As tech has gotten better we have the ability to make out lives easier by adding things like IntelliJ and VS Code into our arsenals. These both come with something called IntelliSense that can tell us what a function does before we commit to using it. \n",
    "\n",
    "Now the way that it does this is through the proper documentation of code. In Java that's done by using Java Doc. Java Doc in the wholistic sense will write documentation and make a static webpage with that documentation based on the way that you comment your code. On the one hand people may think that documenting code is kind of tedious. On the other having a tool like Java Doc makes it very rewarding. \n",
    "\n",
    "For the purpose of this class we won't go to the full lengths there but we'll use the commenting style to add usage tips to our functions. As we talk through our lesson today. "
   ]
  },
  {
   "cell_type": "markdown",
   "metadata": {},
   "source": [
    "## What Are Reference Data Types Again?"
   ]
  },
  {
   "cell_type": "markdown",
   "metadata": {},
   "source": [
    "## Linear Data Structures\n",
    "What are linear data structures and why do we need them? \n",
    "\n",
    "First off linear data structure are comprised of a type of data and can be accessed sequentially. A good example of this that we already understand is an array. \n",
    "\n",
    "What are our problems with arrays in Java though? Why can't we just use those?\n",
    "\n",
    "### Arrays\n",
    "Arrays are our initial linear data stucture and as we all know we put object in and they're ordered and accessible through providing an index when referencing the array. "
   ]
  },
  {
   "cell_type": "code",
   "execution_count": 3,
   "metadata": {},
   "outputs": [
    {
     "name": "stdout",
     "output_type": "stream",
     "text": [
      "Printing out list with for loop:\n",
      "0\n",
      "1\n",
      "2\n",
      "3\n",
      "4\n",
      "5\n",
      "\n",
      "Printing out list with for each loop:\n",
      "0\n",
      "1\n",
      "2\n",
      "3\n",
      "4\n",
      "5\n"
     ]
    }
   ],
   "source": [
    "int[] numbers = {0, 1, 2, 3, 4, 5};\n",
    "\n",
    "\n",
    "System.out.println(\"Printing out list with for loop:\");\n",
    "for (int i = 0; i < numbers.length; i++){\n",
    "    System.out.println(numbers[i]);\n",
    "}\n",
    "\n",
    "System.out.println(\"\\nPrinting out list with for each loop:\");\n",
    "for (int number: numbers) {\n",
    "    System.out.println(number);\n",
    "}"
   ]
  },
  {
   "cell_type": "markdown",
   "metadata": {},
   "source": [
    "Going through both lists we get the same thing no matter the method. This is because we're iterating through it sequentially and there's an order to our array. We have 3 other examples of this that we need to understand for certain scenarios that we could come across \n",
    "\n",
    "First let's look at an ArrayList\n",
    "\n",
    "### Array List\n",
    "Array Lists are great because it gives us the ability to have an mutable array when it comes to size. Callback to before. The issue that we run into mainly with primitave arrays is that they're immutable in size. Meaning that after we make it the first time we can't make it bigger. We have what we have. \n",
    "\n",
    "Sucks... \n",
    "\n",
    "But we can actually just use an ArrayList to get around that. ArrayList and Arrays are basically the same functionallity wise besides that one detail. The syntax for some of these things do change. The underlying concepts are the same though!"
   ]
  },
  {
   "cell_type": "code",
   "execution_count": 39,
   "metadata": {},
   "outputs": [
    {
     "name": "stdout",
     "output_type": "stream",
     "text": [
      "Printing out list with for loop:\n",
      "0\n",
      "1\n",
      "2\n",
      "3\n",
      "4\n",
      "5\n",
      "\n",
      "Printing out list with for each loop:\n",
      "0\n",
      "1\n",
      "2\n",
      "3\n",
      "4\n",
      "5\n"
     ]
    }
   ],
   "source": [
    "import java.util.ArrayList;\n",
    "\n",
    "ArrayList<Integer> listExample1 = new ArrayList();\n",
    "// Preferred with out data in the liust to start.\n",
    "ArrayList<Integer> listExample2 = new ArrayList<Integer>();\n",
    "ArrayList<Integer> numbers = new ArrayList(Arrays.asList(0,1,2,3,4,5));\n",
    "ArrayList<Integer> numbers2 = new ArrayList<Integer>(Arrays.asList(0,1,2,3,4,5));\n",
    "int demo = 6;\n",
    "\n",
    "System.out.println(\"Printing out list with for loop:\");\n",
    "for (int i = 0; i < numbers.size(); i++){\n",
    "    System.out.println(numbers.get(i));\n",
    "}\n",
    "\n",
    "System.out.println(\"\\nPrinting out list with for each loop:\");\n",
    "for (int number: numbers) {\n",
    "    System.out.println(number);\n",
    "}"
   ]
  },
  {
   "cell_type": "markdown",
   "metadata": {},
   "source": [
    "So as we can see here we're able to do the same things that we did above with the ArrayList. Some of the keywords and methods changed a little bit but things are still the same.\n",
    "\n",
    "Now let's try and add something to out array! Then we can reprint these things and see if they actually change!"
   ]
  },
  {
   "cell_type": "code",
   "execution_count": 43,
   "metadata": {},
   "outputs": [
    {
     "name": "stdout",
     "output_type": "stream",
     "text": [
      "Printing out list with for loop:\n",
      "0\n",
      "1\n",
      "2\n",
      "3\n",
      "4\n",
      "5\n",
      "6\n",
      "7\n",
      "8\n",
      "9\n",
      "10\n",
      "6\n",
      "7\n",
      "8\n",
      "9\n",
      "10\n",
      "6\n",
      "7\n",
      "8\n",
      "9\n",
      "10\n",
      "6\n",
      "7\n",
      "8\n",
      "9\n",
      "10\n",
      "\n",
      "Printing out list with for each loop:\n",
      "0\n",
      "1\n",
      "2\n",
      "3\n",
      "4\n",
      "5\n",
      "6\n",
      "7\n",
      "8\n",
      "9\n",
      "10\n",
      "6\n",
      "7\n",
      "8\n",
      "9\n",
      "10\n",
      "6\n",
      "7\n",
      "8\n",
      "9\n",
      "10\n",
      "6\n",
      "7\n",
      "8\n",
      "9\n",
      "10\n"
     ]
    }
   ],
   "source": [
    "numbers.add(6);\n",
    "numbers.add(7);\n",
    "numbers.add(8);\n",
    "numbers.add(9);\n",
    "numbers.add(10);\n",
    "\n",
    "System.out.println(\"Printing out list with for loop:\");\n",
    "for (int i = 0; i < numbers.size(); i++){\n",
    "    System.out.println(numbers.get(i));\n",
    "}\n",
    "\n",
    "System.out.println(\"\\nPrinting out list with for each loop:\");\n",
    "for (int number: numbers) {\n",
    "    System.out.println(number);\n",
    "}"
   ]
  },
  {
   "cell_type": "code",
   "execution_count": 47,
   "metadata": {},
   "outputs": [
    {
     "name": "stdout",
     "output_type": "stream",
     "text": [
      "[0, 10, 1, 2, 3, 4, 5, 6, 7, 8, 9, 10, 6, 7, 8, 9, 10, 6, 7, 8, 9, 10, 6, 7, 8, 9, 10]\n"
     ]
    }
   ],
   "source": [
    "numbers.add(1, 10);\n",
    "System.out.println(numbers)"
   ]
  },
  {
   "cell_type": "markdown",
   "metadata": {},
   "source": [
    "Just like that we're able to add elements to our list! Pretty painless! \n",
    "\n",
    "Now let's take it up a little bit and talk about Linked Lists!\n",
    "\n",
    "## LinkedLists\n",
    "Now LinkedList are again similar to ArrayLists we we should actually go and learn how both of these things are being created under the covers! \n",
    "\n",
    "ArrayList have spots assigned to them and then we assign items to those spots. So we grab a contiguous block of storage and put all of the stuff we're storing there. Think when you go to the movies with friends. If there are four of you, you try and find 4 available seats all next to each other so that you can sit together. Same idea for Arrays and Array Lists. \n",
    "\n",
    "Now when it comes to LinkedList lets morph that. Let's say that you want to give something to a friends sibling. You'd probably give the thing to your friend and then your friend would give it to the sibling. This works because you know where to find your friend and your friend knows where to find their sibling. \n",
    "\n",
    "That knowledge is what we'd call a pointer. Pointers are used all over the place in LinkedLists.\n"
   ]
  },
  {
   "cell_type": "code",
   "execution_count": 44,
   "metadata": {},
   "outputs": [
    {
     "name": "stdout",
     "output_type": "stream",
     "text": [
      "[Bottom Bun, Mayo, Lettuce, Tomato, Burger Patty, Cheese, Bacon, Mayo, Ketchup, Top Bun]\n"
     ]
    }
   ],
   "source": [
    "import java.util.LinkedList;\n",
    "\n",
    "LinkedList<String> recipe = new LinkedList<String>();\n",
    "\n",
    "recipe.add(\"Bottom Bun\");\n",
    "recipe.add(\"Mayo\");\n",
    "recipe.add(\"Lettuce\");\n",
    "recipe.add(\"Tomato\");\n",
    "recipe.add(\"Burger Patty\");\n",
    "recipe.add(\"Cheese\");\n",
    "recipe.add(\"Bacon\");\n",
    "recipe.add(\"Mayo\");\n",
    "recipe.add(\"Ketchup\");\n",
    "recipe.add(\"Top Bun\");\n",
    "\n",
    "System.out.println(recipe);"
   ]
  },
  {
   "cell_type": "markdown",
   "metadata": {},
   "source": [
    "This is done differently under the covers than an array list. When an arraylist runs out of space that becomes very pricey in memory to move everything. \n",
    "\n",
    "We can circumnavigate that by using LinkedLists and pointers. Now in terms of code you'll rarely see a visual difference unless you're paying attention to preformance but when it comes to knowing data type and how they work this knowledge is invaluable. \n",
    "\n",
    "Let's look at manipulating our created list a little bit where we move some things around."
   ]
  },
  {
   "cell_type": "code",
   "execution_count": 46,
   "metadata": {},
   "outputs": [
    {
     "name": "stdout",
     "output_type": "stream",
     "text": [
      "[Bottom Bun, Mayo, Pickles, Pickles, Lettuce, Burger Patty, Cheese, Burger Patty, Cheese, Burger Patty, Cheese, Bacon, Mayo, Ketchup, Top Bun]\n"
     ]
    }
   ],
   "source": [
    "recipe.add(2, \"Pickles\");\n",
    "recipe.add(6, \"Burger Patty\");\n",
    "recipe.add(6, \"Cheese\");\n",
    "recipe.remove(\"Tomato\");\n",
    "\n",
    "System.out.println(recipe);"
   ]
  },
  {
   "cell_type": "markdown",
   "metadata": {},
   "source": [
    "Here, same as before it's not much effort to move things around. What's important to note here is that we can put the index that we want the place of the item to be at along with the data and the LinkedList will figure out the rest. Fixing the pointers and what not under the covers.\n",
    "\n",
    "Next up we'll talk about Queues\n",
    "\n",
    "### Queues\n",
    "So similar to real life we have lines to process things. \n",
    "\n",
    "To do this in code we can use a Queue!\n",
    "\n",
    "Queues are generally FIFO(First In First Out) Queue's will be our first exposure to interfaces which we'll talk about later. They're initialized by using other reference types. The two common ones are LinkedLists which we just learned about and PriorityQueues. "
   ]
  },
  {
   "cell_type": "code",
   "execution_count": 52,
   "metadata": {},
   "outputs": [
    {
     "name": "stdout",
     "output_type": "stream",
     "text": [
      "[Chris, Sharon, Ava, Tim]\n"
     ]
    }
   ],
   "source": [
    "import java.util.Queue;\n",
    "\n",
    "Queue<String> line = new LinkedList<String>();\n",
    "line.add(\"Chris\");\n",
    "line.add(\"Sharon\");\n",
    "line.add(\"Ava\");\n",
    "line.add(\"Tim\");\n",
    "\n",
    "System.out.println(line);\n"
   ]
  },
  {
   "cell_type": "markdown",
   "metadata": {},
   "source": [
    "Unlike some of our previous examples when we grab something here we're actually taking it completely out of the list."
   ]
  },
  {
   "cell_type": "code",
   "execution_count": 53,
   "metadata": {},
   "outputs": [
    {
     "name": "stdout",
     "output_type": "stream",
     "text": [
      "[Sharon, Ava, Tim]\n",
      "Chris\n",
      "Sharon\n",
      "[Sharon, Ava, Tim]\n"
     ]
    }
   ],
   "source": [
    "String headOfLine = line.remove();\n",
    "\n",
    "System.out.println(line);\n",
    "System.out.println(headOfLine);\n",
    "System.out.println(line.element());\n",
    "System.out.println(line);"
   ]
  },
  {
   "cell_type": "markdown",
   "metadata": {},
   "source": [
    "This again is just like a line and isn't that complex. \n",
    "\n",
    "Getting through that allows us to move onto the last type that we'll go through(There are many more of these linear data types) We've talked about Stacks so lets see one in action!\n",
    "\n",
    "### Stacks\n",
    "Stack we talked about last week and out example was a stack of plates. It's LIFO (Last In First Out) the best example that I have for this is when we're dealing with recursion.\n",
    "\n",
    "I have an example that we can look at in the QuickDemos folder under Fibonacci."
   ]
  },
  {
   "cell_type": "code",
   "execution_count": 32,
   "metadata": {},
   "outputs": [
    {
     "name": "stdout",
     "output_type": "stream",
     "text": [
      "[One, Two, Three, Four, Five]\n"
     ]
    }
   ],
   "source": [
    "import java.util.Stack;\n",
    "\n",
    "Stack<String> stack = new Stack<String>();\n",
    "\n",
    "stack.push(\"One\");\n",
    "stack.push(\"Two\");\n",
    "stack.push(\"Three\");\n",
    "stack.push(\"Four\");\n",
    "stack.push(\"Five\");\n",
    "\n",
    "System.out.println(stack);"
   ]
  },
  {
   "cell_type": "markdown",
   "metadata": {},
   "source": [
    "Now when we remove the items it's going to come from the end of the list. Not the top. "
   ]
  },
  {
   "cell_type": "code",
   "execution_count": 33,
   "metadata": {},
   "outputs": [
    {
     "name": "stdout",
     "output_type": "stream",
     "text": [
      "[One, Two, Three]\n"
     ]
    }
   ],
   "source": [
    "stack.pop();\n",
    "stack.pop();\n",
    "\n",
    "System.out.println(stack);"
   ]
  },
  {
   "cell_type": "markdown",
   "metadata": {},
   "source": [
    "Next we're going to move on to how all of these are relate and how they came to be! \n",
    "\n",
    "For that we're going to talk about Objects!"
   ]
  },
  {
   "cell_type": "markdown",
   "metadata": {},
   "source": []
  }
 ],
 "metadata": {
  "kernelspec": {
   "display_name": "Java",
   "language": "java",
   "name": "java"
  },
  "language_info": {
   "codemirror_mode": "java",
   "file_extension": ".jshell",
   "mimetype": "text/x-java-source",
   "name": "Java",
   "pygments_lexer": "java",
   "version": "15+36"
  },
  "orig_nbformat": 2
 },
 "nbformat": 4,
 "nbformat_minor": 2
}