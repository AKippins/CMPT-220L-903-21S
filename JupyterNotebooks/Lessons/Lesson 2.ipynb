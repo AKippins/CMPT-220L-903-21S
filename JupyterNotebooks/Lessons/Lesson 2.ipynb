{
 "cells": [
  {
   "cell_type": "markdown",
   "metadata": {},
   "source": [
    "# Software Development 1\n",
    "---\n",
    "Topics for today will include:\n",
    "- Polling The Class\n",
    "    - GitHub\n",
    "    - Command Line\n",
    "- Square One: Printing Things Out\n",
    "- Square Two: Taking Things In\n",
    "- Reviewing Counting in Binary and Binary Math\n",
    "- Values and Data Types\n",
    "    - Variables\n",
    "    - Primitive Data Types\n",
    "    - Reference Data Types\n",
    "        - Arrays\n",
    "- Arithmetic"
   ]
  },
  {
   "cell_type": "markdown",
   "metadata": {},
   "source": [
    "## Square One: Printing Things Out\n",
    "So we're going to start with the simple stuff. In programming we need a way to see what the computer is telling us. We can do this with a print statement. This is a little more complex in Java. We can do this a few ways. Printing things out in Java is more similar to the Python Logger. Meaning we have several options when it comes to printing things out. \n",
    "\n",
    "We're telling the `System` that we need to do something. We have a couple different streams that we can write to. Then there are two options from there. \n",
    "\n",
    "| Print Stream | Print Types |\n",
    "|--------------|-------------|\n",
    "|      out     |    print    |\n",
    "|      err     |   println   |"
   ]
  },
  {
   "cell_type": "code",
   "execution_count": 13,
   "metadata": {},
   "outputs": [
    {
     "name": "stdout",
     "output_type": "stream",
     "text": [
      "Hello\n",
      "World\n"
     ]
    }
   ],
   "source": [
    "System.out.print(\"Hello\" + \"\\n\");\n",
    "System.out.println(\"World\");\n",
    "System.err.print(\"Hello\");\n",
    "System.err.println(\"Hello\");"
   ]
  },
  {
   "cell_type": "markdown",
   "metadata": {},
   "source": [
    "## Square Two: Taking Things In\n",
    "Just like we can send things out we can also take things in. Java have 3 streams that we usually interact with. In, Err, and Out. We did Out and Err. This is a good teaching moment for somethings that will happen in Jupyter Notebooks in this class. This is valid code but isn't going to do anything right now. We'll come back to this later!"
   ]
  },
  {
   "cell_type": "code",
   "execution_count": 14,
   "metadata": {},
   "outputs": [],
   "source": [
    "Scanner input = new Scanner(System.in);"
   ]
  },
  {
   "cell_type": "markdown",
   "metadata": {},
   "source": [
    "## Reviewing Counting in Binary and Binary Math\n",
    "So before we do anything we need to sorta understand the math the computer might possibly hide from us. To do this we need to be able to get numbers into a form that we can understand. That typically being decimal. So we're going to break down the positional based math for converting to decimal.\n",
    "\n",
    "What is 1001 in Binary? 9 \n",
    "\n",
    "### Decimal\n",
    "[0, 1, 2, 3, 4, 5, 6, 7, 8, 9]  Decimal is Base 10\n",
    "\n",
    "Let's say we have the value 4896 in Decimal\n",
    "\n",
    "9 + 1 \n",
    "10 ^ 0 = 1  This is the math in the ones column\n",
    "0 * 1 = 0   Multiplying by the value for the ones column\n",
    "\n",
    "10 ^ 1 = 10\n",
    "10 * 1 = 10\n",
    "\n",
    "0 + 10 = 10\n",
    "\n",
    "10\n",
    "\n",
    "| Thousands | Hundreds |  Tens  |  Ones  |\n",
    "|-----------|----------|--------|--------|\n",
    "|    10^3   |   10^2   |  10^1  |  10^0  |\n",
    "|     4     |     8    |    9   |    6   |\n",
    "|  1000 * 4 |  100 * 8 | 9 * 10 |  1 * 6 |\n",
    "  \n",
    "**4000 + 800 + 90 + 6 = 4896**\n",
    "\n",
    "\n",
    "### Hexidecimal\n",
    "[0, 1, 2, 3, 4, 5, 6, 7, 8, 9, A, B, C, D, E, F]  Hexiecimal is Base 16\n",
    "\n",
    "BE\n",
    "\n",
    "E\n",
    "16 ^ 0 = 1\n",
    "1 * E(14) = 14\n",
    "\n",
    "B\n",
    "16 ^ 1 = 16\n",
    "16 * B(11) = 176\n",
    "\n",
    "176 + 14 = 190\n",
    "\n",
    "Let's say we have the value DEAD in Hexidecimal\n",
    "\n",
    "| Four Thousand Ninty Sixths| Two Fifty Sixths | Sixteenths |    Ones   |\n",
    "|---------------------------|------------------|------------|-----------|\n",
    "|           16^3            |       16^2       |    16^1    |    16^0   |\n",
    "|            D              |         E        |      A     |      D    | \n",
    "|         4096 * D          |      256 * E     |   16 * A   |   1 * D   |\n",
    "\n",
    "**53248 + 3584 + 160 + 13 = 57005**\n",
    "\n",
    "\n",
    "### Octal\n",
    "[0, 1, 2, 3, 4, 5, 6, 7]  Octal is Base 8\n",
    "\n",
    "Let's say we have the value 2410 in Octal\n",
    "\n",
    "76\n",
    "\n",
    "6\n",
    "8 ^ 0 = 1\n",
    "1 * 6 = 6 \n",
    "\n",
    "7\n",
    "8 ^ 1 = 8\n",
    "8 * 7 = 56\n",
    "\n",
    "56 + 6 = 62\n",
    "\n",
    "| Five Hundred Twelveths | Sixty Fourths | Eights |  Ones   |\n",
    "|------------------------|---------------|--------|---------|\n",
    "|           8^3          |       8^2     |   8^1  |   8^0   |\n",
    "|            2           |        4      |    1   |    0    |\n",
    "|         512 * 2        |     64 * 4    |  8 * 1 |  1 * 0  |\n",
    "\n",
    "**1024 + 256 + 8 + 0 = 1288**\n",
    "\n",
    "### Binary\n",
    "[0, 1] Binary is Base 2\n",
    "\n",
    "Let's say we have the value 1011 in Binary\n",
    "\n",
    "1001 1111\n",
    "\n",
    "1\n",
    "2 ^ 0 = 1\n",
    "1 * 1 = 1\n",
    "\n",
    "1\n",
    "2 ^ 1 = 2\n",
    "1 * 1 = 2\n",
    "\n",
    "1\n",
    "2 ^ 2 = 4\n",
    "1 * 1 = 4\n",
    "\n",
    "1\n",
    "2 ^ 3 = 8\n",
    "1 * 1 = 8\n",
    "\n",
    "1\n",
    "2 ^ 4 = 16\n",
    "1 * 1 = 16\n",
    "\n",
    "1\n",
    "2 ^ 5 = 32\n",
    "1 * 0 = 0\n",
    "\n",
    "1\n",
    "2 ^ 6 = 64\n",
    "1 * 0 = 0\n",
    "\n",
    "1\n",
    "2 ^ 7 = 128\n",
    "1 * 1 = 128\n",
    "\n",
    "128 + 0 + 0 + 16 + 8 + 4 + 2 + 1 = 159\n",
    "\n",
    "\n",
    "| Eighths | Fours | Twos  | Ones  |\n",
    "|---------|-------|-------|-------|\n",
    "|   2^3   |  2^2  |  2^1  |  2^0  |\n",
    "|    1    |   0   |   1   |   1   |\n",
    "|  8 * 1  | 4 * 0 | 2 * 1 | 1 * 1 |\n",
    "\n",
    "**8 + 0 + 2 + 1 = 11**\n",
    "\n",
    "1111 1111 = 255\n",
    "1 0000 0000 = 256\n",
    "\n",
    "Two's Complement \n",
    "80\n",
    "0101 0000\n",
    "1010 1111\n",
    "1011 0000\n",
    "\n",
    "0 - 255\n",
    "\n",
    "\n",
    "8 bits worth of numbers. -128 - 127\n",
    "\n",
    "\n",
    "\n",
    "\n",
    "## Values and Data Types\n",
    "---\n",
    "In Java unlike Python we have to declare our types when we're making a variable. So before we can even declare variables we need to look into data types. I mentioned that we're going to have to start paying attention to things like memory and choosing the right ways to do things. Now in the next sections when I refer to the space that things take it's in representation. Meaning that the value is represented with the memory described. Making the entity exist may take more memory than described. This will make more sense as we go on.\n",
    "\n",
    "\n",
    "### Variables\n",
    "Variables in Java aren't any different then they were in Python. We do have syntactical differences in the way that we declare them. Now depending on whether it's a primitive type or a relative type some of the verbiage changes. More on the differences between the types in a second. "
   ]
  },
  {
   "cell_type": "code",
   "execution_count": null,
   "metadata": {},
   "outputs": [],
   "source": [
    "// This won't run!\n",
    "// Primitive Types\n",
    "<DataType> VariableName = The Thing;\n",
    "\n",
    "// Relative Types (varies)\n",
    "<DataType> VariableName = new <DataType>(The Thing);"
   ]
  },
  {
   "cell_type": "markdown",
   "metadata": {},
   "source": [
    "### Primitive Data Types\n",
    "**The types below aren't capitalized because if used in code they need to be lowercase to be recognized*\n",
    "\n",
    "| Type | Values/Example | Notes |\n",
    "|------|----------------|-------|\n",
    "| boolean | False or True | This in memory is allocated with a bit. If you think about it a bit can be either 0 or 1. That is eerily similar to False and True huh? When we use a Boolean this is the idea for the value. This isn't saying that we only use a bit, size for booleans aren't precisely defined, but that the value can be represented with a bit. |\n",
    "| byte | From -2⁷ through 2⁷-1 | This in memory is allocated with a byte or 8 bits. This is going to be the entry level for getting an integer. This isn't used as often as typically you'd use int or float. |\n",
    "| short | From -2¹⁵ through 2¹⁵-1 | This in memory is allocated with 2 bytes or 16 bits. This is the tier after byte and allows you to have a larger range of integers. This isn't used as often as typically you'd use int or float |\n",
    "| int | From -2³¹ through 2³¹-1, 10, -94 | This in memory is allocated with 4 bytes or 32 bits. This is typically the default that you'd see when you need a number in Java. |\n",
    "| long | From -2⁶³ through 2⁶³-1, 1234L, - 5678L | This in memory is allocated with 8 bytes or 64 bits. This is the backup for int in a way. If you overflow with int you need a long. This isn't used as often as typically you'd use int or float. This will sometimes be represented with an L at the end of the number. |\n",
    "| float | 0.123123 | This in memory is allocated with 4 bytes or 32 bits. For this getting the ranges for this and double is not really needed because the number is very large. Since float and double are decimals we're not really looking at range in the same way that we are for regular signed integers. We're more so looking at the level of accuracy that the value is going to. (ex 0.125 is more accurate than 0.12) |\n",
    "| double | 0.123123 | This in memory is allocated with 8 bytes or 64 bits. This is basically the same as above and allows for a larger range of numbers.  |\n",
    "| char | 'a', '\\u0061' | This in memory is allocated with 2 bytes or 16 bits. This can store any unicode character. |"
   ]
  },
  {
   "cell_type": "code",
   "execution_count": 1,
   "metadata": {},
   "outputs": [
    {
     "name": "stdout",
     "output_type": "stream",
     "text": [
      "127\n"
     ]
    }
   ],
   "source": [
    "// Bit representation. Can either be 0 or 1. Otherwise known as true or false.\n",
    "boolean is_smart = true;\n",
    "// 0111 1111 = 127 This holds 128 positions\n",
    "// 1111 1111 = -128 \n",
    "// 1000 0000 = 128, This is 128 in binary\n",
    "// Byte representation. Is 8 bits all together. Is a number type. Byte can hold from -128 - 127\n",
    "byte example_byte = 127;\n",
    "\n",
    "// 0111 1111 1111 1111 = 32,767 This holds 32,768 positions\n",
    "// 1111 1111 1111 1111 = -32,768 \n",
    "// 1000 0000 1000 0000 = 65,536, This is 65,536 in binary\n",
    "// Short representation. Is 16 bits all together. Is a number type. Short can hold from -32,768 - 32,767\n",
    "short age_as_short = 32767;\n",
    "\n",
    "// 0111 1111 1111 1111 1111 1111 1111 1111 = 2,147,483,647 This holds 2,147,483,648 positions\n",
    "// 1111 1111 1111 1111 1111 1111 1111 1111 = -2,147,483,648 \n",
    "// 1000 0000 0000 0000 0000 0000 0000 0000 = 4,294,967,296, This is 4,294,967,296 in binary\n",
    "// Int representation. Is 32 bits all together. Is a number type. Int can hold from -2,147,483,648 - 2,147,483,647\n",
    "int age = 2147483647;\n",
    "\n",
    "// 0111 1111 1111 1111 1111 1111 1111 1111 1111 1111 1111 1111 1111 1111 1111 1111 = 9.223372036854775e18 This holds x positions\n",
    "// 1111 1111 1111 1111 1111 1111 1111 1111 1111 1111 1111 1111 1111 1111 1111 1111 = -9.223372036854776e18 \n",
    "// 1000 0000 0000 0000 0000 0000 0000 0000 0000 0000 0000 0000 0000 0000 0000 0000 = 1.844674407370955e19, This is 1.844674407370955e19 in binary\n",
    "// Long representation. Is 64 bits all together. Is a number type. Long can hold from -2,147,483,648 - 2,147,483,647\n",
    "long age_as_long = 16L;\n",
    "float gpa = 0.0f;\n",
    "double gpa_as_long = 3.9;\n",
    "char letter = 'c';\n",
    "\n",
    "System.out.println(example_byte);"
   ]
  },
  {
   "cell_type": "markdown",
   "metadata": {},
   "source": [
    "### Reference Data Types\n",
    "Reference types are interesting and well named! \\**hint hint*\\* They don't store their variables directly. Instead it stores the address where the values are being held. This just boils down to being an **OBJECT!** over being directly accessible. This is usually an Array, a Class, or an Interface.\n",
    "\n",
    "To discuss and demonstrate this further we're going to look at the Person example in the QuickDemos folder."
   ]
  },
  {
   "cell_type": "markdown",
   "metadata": {},
   "source": [
    "## Arithmetic\n",
    "This is another thing that at the ground level is the same as Python. No need to overcomplicate it."
   ]
  },
  {
   "cell_type": "code",
   "execution_count": 26,
   "metadata": {},
   "outputs": [
    {
     "name": "stdout",
     "output_type": "stream",
     "text": [
      "4\n",
      "1\n",
      "2\n",
      "25\n",
      "1\n",
      "27.0\n"
     ]
    }
   ],
   "source": [
    "System.out.println(2 + 2);\n",
    "System.out.println(3 - 2);\n",
    "System.out.println(4 / 2);\n",
    "System.out.println(5 * 5);\n",
    "System.out.println(10 % 3);\n",
    "System.out.println(Math.pow(3,3));"
   ]
  },
  {
   "cell_type": "code",
   "execution_count": null,
   "metadata": {},
   "outputs": [],
   "source": []
  }
 ],
 "metadata": {
  "kernelspec": {
   "display_name": "Java",
   "language": "java",
   "name": "java"
  },
  "language_info": {
   "codemirror_mode": "java",
   "file_extension": ".jshell",
   "mimetype": "text/x-java-source",
   "name": "Java",
   "pygments_lexer": "java",
   "version": "15+36"
  },
  "orig_nbformat": 2
 },
 "nbformat": 4,
 "nbformat_minor": 2
}